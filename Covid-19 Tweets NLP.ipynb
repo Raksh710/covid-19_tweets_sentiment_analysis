{
 "cells": [
  {
   "cell_type": "code",
   "execution_count": 1,
   "id": "ae3f9a0d-ac99-4665-93e7-7bbc6e024612",
   "metadata": {},
   "outputs": [],
   "source": [
    "import numpy as np\n",
    "import pandas as pd\n",
    "import matplotlib.pyplot as plt\n",
    "import seaborn as sns\n",
    "import spacy"
   ]
  },
  {
   "cell_type": "code",
   "execution_count": 2,
   "id": "43244a74-121c-4b96-bb50-4d23dc4aa402",
   "metadata": {},
   "outputs": [],
   "source": [
    "df = pd.read_csv(\"Corona_NLP_train.csv\")"
   ]
  },
  {
   "cell_type": "code",
   "execution_count": 3,
   "id": "e584bae5-7b79-40db-b8cb-c9d782e60777",
   "metadata": {},
   "outputs": [
    {
     "data": {
      "text/html": [
       "<div>\n",
       "<style scoped>\n",
       "    .dataframe tbody tr th:only-of-type {\n",
       "        vertical-align: middle;\n",
       "    }\n",
       "\n",
       "    .dataframe tbody tr th {\n",
       "        vertical-align: top;\n",
       "    }\n",
       "\n",
       "    .dataframe thead th {\n",
       "        text-align: right;\n",
       "    }\n",
       "</style>\n",
       "<table border=\"1\" class=\"dataframe\">\n",
       "  <thead>\n",
       "    <tr style=\"text-align: right;\">\n",
       "      <th></th>\n",
       "      <th>UserName</th>\n",
       "      <th>ScreenName</th>\n",
       "      <th>Location</th>\n",
       "      <th>TweetAt</th>\n",
       "      <th>OriginalTweet</th>\n",
       "      <th>Sentiment</th>\n",
       "    </tr>\n",
       "  </thead>\n",
       "  <tbody>\n",
       "    <tr>\n",
       "      <th>0</th>\n",
       "      <td>3799</td>\n",
       "      <td>48751</td>\n",
       "      <td>London</td>\n",
       "      <td>16-03-2020</td>\n",
       "      <td>@MeNyrbie @Phil_Gahan @Chrisitv https://t.co/i...</td>\n",
       "      <td>Neutral</td>\n",
       "    </tr>\n",
       "    <tr>\n",
       "      <th>1</th>\n",
       "      <td>3800</td>\n",
       "      <td>48752</td>\n",
       "      <td>UK</td>\n",
       "      <td>16-03-2020</td>\n",
       "      <td>advice Talk to your neighbours family to excha...</td>\n",
       "      <td>Positive</td>\n",
       "    </tr>\n",
       "    <tr>\n",
       "      <th>2</th>\n",
       "      <td>3801</td>\n",
       "      <td>48753</td>\n",
       "      <td>Vagabonds</td>\n",
       "      <td>16-03-2020</td>\n",
       "      <td>Coronavirus Australia: Woolworths to give elde...</td>\n",
       "      <td>Positive</td>\n",
       "    </tr>\n",
       "    <tr>\n",
       "      <th>3</th>\n",
       "      <td>3802</td>\n",
       "      <td>48754</td>\n",
       "      <td>NaN</td>\n",
       "      <td>16-03-2020</td>\n",
       "      <td>My food stock is not the only one which is emp...</td>\n",
       "      <td>Positive</td>\n",
       "    </tr>\n",
       "    <tr>\n",
       "      <th>4</th>\n",
       "      <td>3803</td>\n",
       "      <td>48755</td>\n",
       "      <td>NaN</td>\n",
       "      <td>16-03-2020</td>\n",
       "      <td>Me, ready to go at supermarket during the #COV...</td>\n",
       "      <td>Extremely Negative</td>\n",
       "    </tr>\n",
       "  </tbody>\n",
       "</table>\n",
       "</div>"
      ],
      "text/plain": [
       "   UserName  ScreenName   Location     TweetAt  \\\n",
       "0      3799       48751     London  16-03-2020   \n",
       "1      3800       48752         UK  16-03-2020   \n",
       "2      3801       48753  Vagabonds  16-03-2020   \n",
       "3      3802       48754        NaN  16-03-2020   \n",
       "4      3803       48755        NaN  16-03-2020   \n",
       "\n",
       "                                       OriginalTweet           Sentiment  \n",
       "0  @MeNyrbie @Phil_Gahan @Chrisitv https://t.co/i...             Neutral  \n",
       "1  advice Talk to your neighbours family to excha...            Positive  \n",
       "2  Coronavirus Australia: Woolworths to give elde...            Positive  \n",
       "3  My food stock is not the only one which is emp...            Positive  \n",
       "4  Me, ready to go at supermarket during the #COV...  Extremely Negative  "
      ]
     },
     "execution_count": 3,
     "metadata": {},
     "output_type": "execute_result"
    }
   ],
   "source": [
    "df.head()"
   ]
  },
  {
   "cell_type": "code",
   "execution_count": 4,
   "id": "a6a39a43-c301-430c-912c-40a6a2cbc986",
   "metadata": {},
   "outputs": [],
   "source": [
    "df_tweets=df[['OriginalTweet','Sentiment']]"
   ]
  },
  {
   "cell_type": "code",
   "execution_count": 5,
   "id": "affdcbb4-830c-42ff-9da9-541c41ed1c2a",
   "metadata": {},
   "outputs": [
    {
     "data": {
      "text/html": [
       "<div>\n",
       "<style scoped>\n",
       "    .dataframe tbody tr th:only-of-type {\n",
       "        vertical-align: middle;\n",
       "    }\n",
       "\n",
       "    .dataframe tbody tr th {\n",
       "        vertical-align: top;\n",
       "    }\n",
       "\n",
       "    .dataframe thead th {\n",
       "        text-align: right;\n",
       "    }\n",
       "</style>\n",
       "<table border=\"1\" class=\"dataframe\">\n",
       "  <thead>\n",
       "    <tr style=\"text-align: right;\">\n",
       "      <th></th>\n",
       "      <th>OriginalTweet</th>\n",
       "      <th>Sentiment</th>\n",
       "    </tr>\n",
       "  </thead>\n",
       "  <tbody>\n",
       "    <tr>\n",
       "      <th>0</th>\n",
       "      <td>@MeNyrbie @Phil_Gahan @Chrisitv https://t.co/i...</td>\n",
       "      <td>Neutral</td>\n",
       "    </tr>\n",
       "    <tr>\n",
       "      <th>1</th>\n",
       "      <td>advice Talk to your neighbours family to excha...</td>\n",
       "      <td>Positive</td>\n",
       "    </tr>\n",
       "    <tr>\n",
       "      <th>2</th>\n",
       "      <td>Coronavirus Australia: Woolworths to give elde...</td>\n",
       "      <td>Positive</td>\n",
       "    </tr>\n",
       "    <tr>\n",
       "      <th>3</th>\n",
       "      <td>My food stock is not the only one which is emp...</td>\n",
       "      <td>Positive</td>\n",
       "    </tr>\n",
       "    <tr>\n",
       "      <th>4</th>\n",
       "      <td>Me, ready to go at supermarket during the #COV...</td>\n",
       "      <td>Extremely Negative</td>\n",
       "    </tr>\n",
       "  </tbody>\n",
       "</table>\n",
       "</div>"
      ],
      "text/plain": [
       "                                       OriginalTweet           Sentiment\n",
       "0  @MeNyrbie @Phil_Gahan @Chrisitv https://t.co/i...             Neutral\n",
       "1  advice Talk to your neighbours family to excha...            Positive\n",
       "2  Coronavirus Australia: Woolworths to give elde...            Positive\n",
       "3  My food stock is not the only one which is emp...            Positive\n",
       "4  Me, ready to go at supermarket during the #COV...  Extremely Negative"
      ]
     },
     "execution_count": 5,
     "metadata": {},
     "output_type": "execute_result"
    }
   ],
   "source": [
    "df_tweets.head()"
   ]
  },
  {
   "cell_type": "code",
   "execution_count": 26,
   "id": "aaf9999f-5242-4904-b94f-8fd68c597450",
   "metadata": {},
   "outputs": [
    {
     "data": {
      "text/plain": [
       "Positive              27.752266\n",
       "Negative              24.095537\n",
       "Neutral               18.740433\n",
       "Extremely Positive    16.094468\n",
       "Extremely Negative    13.317297\n",
       "Name: Sentiment, dtype: float64"
      ]
     },
     "execution_count": 26,
     "metadata": {},
     "output_type": "execute_result"
    }
   ],
   "source": [
    "100 * df_tweets['Sentiment'].value_counts()/len(df_tweets)"
   ]
  },
  {
   "cell_type": "code",
   "execution_count": 7,
   "id": "c4fea8a3-84ca-44c6-89ac-c6627c4599df",
   "metadata": {},
   "outputs": [
    {
     "data": {
      "text/plain": [
       "OriginalTweet    0\n",
       "Sentiment        0\n",
       "dtype: int64"
      ]
     },
     "execution_count": 7,
     "metadata": {},
     "output_type": "execute_result"
    }
   ],
   "source": [
    "df_tweets.isna().sum()"
   ]
  },
  {
   "cell_type": "code",
   "execution_count": 8,
   "id": "b7f160a5-7121-4e14-83e5-c3c13d812cbf",
   "metadata": {},
   "outputs": [],
   "source": [
    "# Checking if there are any \"blank\" tweets. If there are, then we'll remove such tweets.\n",
    "blanks = []\n",
    "for i, tweet, lb in df_tweets.itertuples():\n",
    "    if type(tweet) == str:\n",
    "        if tweet.isspace():\n",
    "            blanks.append(i)"
   ]
  },
  {
   "cell_type": "code",
   "execution_count": 9,
   "id": "354407b9-0f50-46e9-aa67-1849bc5c21e1",
   "metadata": {},
   "outputs": [
    {
     "data": {
      "text/plain": [
       "[]"
      ]
     },
     "execution_count": 9,
     "metadata": {},
     "output_type": "execute_result"
    }
   ],
   "source": [
    "blanks # no blank tweets"
   ]
  },
  {
   "cell_type": "markdown",
   "id": "11c90d76-60f6-4e07-9a5a-febcd2cdf4ae",
   "metadata": {},
   "source": [
    "# EDA"
   ]
  },
  {
   "cell_type": "code",
   "execution_count": 82,
   "id": "1e5b19a5-0ab8-464f-ac37-7b6938ee58db",
   "metadata": {},
   "outputs": [
    {
     "data": {
      "text/plain": [
       "<AxesSubplot:xlabel='Sentiment', ylabel='Count'>"
      ]
     },
     "execution_count": 82,
     "metadata": {},
     "output_type": "execute_result"
    },
    {
     "data": {
      "image/png": "[encoded data removed]",
      "text/plain": [
       "<Figure size 864x432 with 1 Axes>"
      ]
     },
     "metadata": {
      "needs_background": "light"
     },
     "output_type": "display_data"
    }
   ],
   "source": [
    "plt.figure(figsize=(12,6))\n",
    "sns.histplot(data=df_tweets,x='Sentiment')"
   ]
  },
  {
   "cell_type": "markdown",
   "id": "2cd6067c-fd5e-4f7f-8892-a2c8fd1b56fa",
   "metadata": {},
   "source": [
    "#### Inference:\n",
    "We can see that most of the samples (tweets) have \"positive\" sentiment. Next, are the tweets having \"Negative\" sentiments, after that comes tweets with \"Neutral\" sentiments. Then, we can see the \"extreme cases\" lead by \"Extremely Positive\" sentiments and followed by \"Extremely Negative\" sentiments."
   ]
  },
  {
   "cell_type": "markdown",
   "id": "245edde2-91b3-4c52-a8ad-35ff7d702ff3",
   "metadata": {},
   "source": [
    "#### Let's try to analyze these tweets with respect to their sentiment polarity scores (positve score, negative score, neutral score and compound score)"
   ]
  },
  {
   "cell_type": "code",
   "execution_count": 69,
   "id": "5bf03c68-b5cb-45d9-ae63-1a2562a629ab",
   "metadata": {},
   "outputs": [],
   "source": [
    "df2 = df_tweets.copy()"
   ]
  },
  {
   "cell_type": "code",
   "execution_count": 70,
   "id": "2b3fc1a6-eb57-4d6c-9943-7ceba12dc94e",
   "metadata": {},
   "outputs": [],
   "source": [
    "from nltk.sentiment import SentimentIntensityAnalyzer"
   ]
  },
  {
   "cell_type": "code",
   "execution_count": 71,
   "id": "5e1f2e36-a12b-43af-aa6b-c1b9c6941ce5",
   "metadata": {},
   "outputs": [],
   "source": [
    "sia = SentimentIntensityAnalyzer()"
   ]
  },
  {
   "cell_type": "code",
   "execution_count": 72,
   "id": "edb9a466-0f90-4ea6-b176-761a3e480620",
   "metadata": {},
   "outputs": [
    {
     "data": {
      "text/plain": [
       "{'neg': 0.0, 'neu': 0.777, 'pos': 0.223, 'compound': 0.8731}"
      ]
     },
     "execution_count": 72,
     "metadata": {},
     "output_type": "execute_result"
    }
   ],
   "source": [
    "sia.polarity_scores(df2['OriginalTweet'][3])"
   ]
  },
  {
   "cell_type": "code",
   "execution_count": 73,
   "id": "7b59309e-797d-4c66-bb83-507f9c1e505b",
   "metadata": {},
   "outputs": [],
   "source": [
    "df2['pos_score'] = df2[\"OriginalTweet\"].apply(lambda x: sia.polarity_scores(x)['pos'])\n",
    "df2['neg_score'] = df2[\"OriginalTweet\"].apply(lambda x: sia.polarity_scores(x)['neg'])\n",
    "df2['neu_score'] = df2[\"OriginalTweet\"].apply(lambda x: sia.polarity_scores(x)['neu'])\n",
    "df2['comp_score'] = df2[\"OriginalTweet\"].apply(lambda x: sia.polarity_scores(x)['compound'])"
   ]
  },
  {
   "cell_type": "code",
   "execution_count": 74,
   "id": "66e46a32-4fca-478e-b28a-5ffa77055028",
   "metadata": {},
   "outputs": [
    {
     "data": {
      "text/html": [
       "<div>\n",
       "<style scoped>\n",
       "    .dataframe tbody tr th:only-of-type {\n",
       "        vertical-align: middle;\n",
       "    }\n",
       "\n",
       "    .dataframe tbody tr th {\n",
       "        vertical-align: top;\n",
       "    }\n",
       "\n",
       "    .dataframe thead th {\n",
       "        text-align: right;\n",
       "    }\n",
       "</style>\n",
       "<table border=\"1\" class=\"dataframe\">\n",
       "  <thead>\n",
       "    <tr style=\"text-align: right;\">\n",
       "      <th></th>\n",
       "      <th>OriginalTweet</th>\n",
       "      <th>Sentiment</th>\n",
       "      <th>pos_score</th>\n",
       "      <th>neg_score</th>\n",
       "      <th>neu_score</th>\n",
       "      <th>comp_score</th>\n",
       "    </tr>\n",
       "  </thead>\n",
       "  <tbody>\n",
       "    <tr>\n",
       "      <th>0</th>\n",
       "      <td>@MeNyrbie @Phil_Gahan @Chrisitv https://t.co/i...</td>\n",
       "      <td>Neutral</td>\n",
       "      <td>0.000</td>\n",
       "      <td>0.000</td>\n",
       "      <td>1.000</td>\n",
       "      <td>0.0000</td>\n",
       "    </tr>\n",
       "    <tr>\n",
       "      <th>1</th>\n",
       "      <td>advice Talk to your neighbours family to excha...</td>\n",
       "      <td>Positive</td>\n",
       "      <td>0.077</td>\n",
       "      <td>0.000</td>\n",
       "      <td>0.923</td>\n",
       "      <td>0.2500</td>\n",
       "    </tr>\n",
       "    <tr>\n",
       "      <th>2</th>\n",
       "      <td>Coronavirus Australia: Woolworths to give elde...</td>\n",
       "      <td>Positive</td>\n",
       "      <td>0.188</td>\n",
       "      <td>0.000</td>\n",
       "      <td>0.812</td>\n",
       "      <td>0.4588</td>\n",
       "    </tr>\n",
       "    <tr>\n",
       "      <th>3</th>\n",
       "      <td>My food stock is not the only one which is emp...</td>\n",
       "      <td>Positive</td>\n",
       "      <td>0.223</td>\n",
       "      <td>0.000</td>\n",
       "      <td>0.777</td>\n",
       "      <td>0.8731</td>\n",
       "    </tr>\n",
       "    <tr>\n",
       "      <th>4</th>\n",
       "      <td>Me, ready to go at supermarket during the #COV...</td>\n",
       "      <td>Extremely Negative</td>\n",
       "      <td>0.208</td>\n",
       "      <td>0.079</td>\n",
       "      <td>0.713</td>\n",
       "      <td>0.7161</td>\n",
       "    </tr>\n",
       "  </tbody>\n",
       "</table>\n",
       "</div>"
      ],
      "text/plain": [
       "                                       OriginalTweet           Sentiment  \\\n",
       "0  @MeNyrbie @Phil_Gahan @Chrisitv https://t.co/i...             Neutral   \n",
       "1  advice Talk to your neighbours family to excha...            Positive   \n",
       "2  Coronavirus Australia: Woolworths to give elde...            Positive   \n",
       "3  My food stock is not the only one which is emp...            Positive   \n",
       "4  Me, ready to go at supermarket during the #COV...  Extremely Negative   \n",
       "\n",
       "   pos_score  neg_score  neu_score  comp_score  \n",
       "0      0.000      0.000      1.000      0.0000  \n",
       "1      0.077      0.000      0.923      0.2500  \n",
       "2      0.188      0.000      0.812      0.4588  \n",
       "3      0.223      0.000      0.777      0.8731  \n",
       "4      0.208      0.079      0.713      0.7161  "
      ]
     },
     "execution_count": 74,
     "metadata": {},
     "output_type": "execute_result"
    }
   ],
   "source": [
    "df2.head()"
   ]
  },
  {
   "cell_type": "code",
   "execution_count": 75,
   "id": "ea032936-6010-47f4-9937-08648c362018",
   "metadata": {},
   "outputs": [
    {
     "data": {
      "text/plain": [
       "<AxesSubplot:xlabel='comp_score', ylabel='Count'>"
      ]
     },
     "execution_count": 75,
     "metadata": {},
     "output_type": "execute_result"
    },
    {
     "data": {
      "image/png": "[encoded data removed]",
      "text/plain": [
       "<Figure size 792x432 with 1 Axes>"
      ]
     },
     "metadata": {
      "needs_background": "light"
     },
     "output_type": "display_data"
    }
   ],
   "source": [
    "plt.figure(figsize=(11,6))\n",
    "sns.histplot(data=df2,x='comp_score',kde=True)"
   ]
  },
  {
   "cell_type": "markdown",
   "id": "046310cb-e65c-4c00-bc4f-449b77a94279",
   "metadata": {},
   "source": [
    "#### Inference:\n",
    "We can notice almost a perfect normal distribution with wide tails. The plot is almost symmetric, with a slightly highert height around the positive region which could be due to the higher number of positive and extremely positive number of tweets."
   ]
  },
  {
   "cell_type": "code",
   "execution_count": 78,
   "id": "438c5e82-dd60-4185-9457-dfae6ab19720",
   "metadata": {},
   "outputs": [
    {
     "data": {
      "text/plain": [
       "<AxesSubplot:xlabel='pos_score', ylabel='Count'>"
      ]
     },
     "execution_count": 78,
     "metadata": {},
     "output_type": "execute_result"
    },
    {
     "data": {
      "image/png": "[encoded data removed]",
      "text/plain": [
       "<Figure size 792x432 with 1 Axes>"
      ]
     },
     "metadata": {
      "needs_background": "light"
     },
     "output_type": "display_data"
    }
   ],
   "source": [
    "plt.figure(figsize=(11,6))\n",
    "sns.histplot(data=df2,x='pos_score',kde=True)"
   ]
  },
  {
   "cell_type": "markdown",
   "id": "6715ef57-e7db-4add-aa59-a536bcd3387c",
   "metadata": {},
   "source": [
    "#### Inference:\n",
    "The positive score of tweets seems to distributed in a highly right skewed normal distribution manner, with a slight peak occuring around 0.06 - 0.08. However, we can see that a very high number of tweets (around 16000) have a pos_score of 0 indicating that they are either highly negative, negative or neutral. All the non-positive number of tweets are summed in that one single bar."
   ]
  },
  {
   "cell_type": "code",
   "execution_count": 77,
   "id": "22758f0a-3ed9-4b37-a160-9ea80bdaa722",
   "metadata": {},
   "outputs": [
    {
     "data": {
      "text/plain": [
       "<AxesSubplot:xlabel='neg_score', ylabel='Count'>"
      ]
     },
     "execution_count": 77,
     "metadata": {},
     "output_type": "execute_result"
    },
    {
     "data": {
      "image/png": "[encoded data removed]",
      "text/plain": [
       "<Figure size 792x432 with 1 Axes>"
      ]
     },
     "metadata": {
      "needs_background": "light"
     },
     "output_type": "display_data"
    }
   ],
   "source": [
    "plt.figure(figsize=(11,6))\n",
    "sns.histplot(data=df2,x='neg_score',kde=True)"
   ]
  },
  {
   "cell_type": "markdown",
   "id": "a03ce6f2-90cc-4aa6-8f4b-8d960106ef3c",
   "metadata": {},
   "source": [
    "#### Inference:\n",
    "The negative score of tweets seems to distributed in a highly right skewed normal distribution manner, with a slight peak occuring around 0.08 - 0.12. However, we can see that a very high number of tweets (around 17500) have a neg_score of 0 indicating that they are either highly positive, positive or neutral. All the non-negative number of tweets are summed in that one single bar."
   ]
  },
  {
   "cell_type": "code",
   "execution_count": 79,
   "id": "324a4a35-acb0-4461-9c01-66c4f5dd56c6",
   "metadata": {},
   "outputs": [
    {
     "data": {
      "text/plain": [
       "<AxesSubplot:xlabel='neu_score', ylabel='Count'>"
      ]
     },
     "execution_count": 79,
     "metadata": {},
     "output_type": "execute_result"
    },
    {
     "data": {
      "image/png": "[encoded data removed]",
      "text/plain": [
       "<Figure size 792x432 with 1 Axes>"
      ]
     },
     "metadata": {
      "needs_background": "light"
     },
     "output_type": "display_data"
    }
   ],
   "source": [
    "plt.figure(figsize=(11,6))\n",
    "sns.histplot(data=df2,x='neu_score',kde=True)"
   ]
  },
  {
   "cell_type": "markdown",
   "id": "db404326-df65-47b7-9eab-432002d27b44",
   "metadata": {},
   "source": [
    "#### Inference:\n",
    "The distribution is of the form highly left skewed normal distribution. We can see \"humped peak\" around a neu_score of 0.85. High number of \"absolutely neutral\" tweets are present (around 7000), indicated by a single bar."
   ]
  },
  {
   "cell_type": "markdown",
   "id": "8b4ff449-5dcc-4b02-b3dd-a0adc8903f11",
   "metadata": {},
   "source": [
    "The above 4 graphs show that except comp_score all the scores have a high skewed distribution followed/preceeded by a single long bar (indicating all those scores which are not present in that particular score category)"
   ]
  },
  {
   "cell_type": "markdown",
   "id": "2febe3ce-7247-4f04-9366-d36f3fb364c3",
   "metadata": {},
   "source": [
    "#### Now, Let's focus on the comp_score of each sentiment"
   ]
  },
  {
   "cell_type": "markdown",
   "id": "06b46fb5-774b-477b-9ce6-61dd34e2e2f9",
   "metadata": {},
   "source": [
    "#### Neutral"
   ]
  },
  {
   "cell_type": "code",
   "execution_count": 92,
   "id": "3dbdfc00-27ff-46bd-b202-18b91142155b",
   "metadata": {},
   "outputs": [
    {
     "data": {
      "text/plain": [
       "<AxesSubplot:xlabel='comp_score', ylabel='Count'>"
      ]
     },
     "execution_count": 92,
     "metadata": {},
     "output_type": "execute_result"
    },
    {
     "data": {
      "image/png": "[encoded data removed]",
      "text/plain": [
       "<Figure size 792x648 with 1 Axes>"
      ]
     },
     "metadata": {
      "needs_background": "light"
     },
     "output_type": "display_data"
    }
   ],
   "source": [
    "plt.figure(figsize=(11,9))\n",
    "sns.histplot(data=df2[df2['Sentiment']=='Neutral'],x='comp_score',kde=True)"
   ]
  },
  {
   "cell_type": "markdown",
   "id": "980e5ecc-9f76-4165-905c-0e3c6b7f5f1b",
   "metadata": {},
   "source": [
    "#### Inference:\n",
    "For \"Neutral\" tweets, we can see a peak around comp_score of 0, with a symmetric tails. The distribution is normal and symmetric with long tails. However, the tail on the positve side is slightly longer than the one on the left (due to higher number of positve tweets)"
   ]
  },
  {
   "cell_type": "markdown",
   "id": "ca2ea549-8602-480e-833e-01d49807e526",
   "metadata": {},
   "source": [
    "#### Positive"
   ]
  },
  {
   "cell_type": "code",
   "execution_count": 80,
   "id": "865744f8-d3f4-47bc-8130-c1935d8d31c0",
   "metadata": {},
   "outputs": [
    {
     "data": {
      "text/plain": [
       "<AxesSubplot:xlabel='comp_score', ylabel='Count'>"
      ]
     },
     "execution_count": 80,
     "metadata": {},
     "output_type": "execute_result"
    },
    {
     "data": {
      "image/png": "[encoded data removed]",
      "text/plain": [
       "<Figure size 792x648 with 1 Axes>"
      ]
     },
     "metadata": {
      "needs_background": "light"
     },
     "output_type": "display_data"
    }
   ],
   "source": [
    "plt.figure(figsize=(11,9))\n",
    "sns.histplot(data=df2[df2['Sentiment']=='Positive'],x='comp_score',kde=True)"
   ]
  },
  {
   "cell_type": "markdown",
   "id": "38d212c3-5344-4a41-97a2-4e4c82a8684d",
   "metadata": {},
   "source": [
    "#### Inference:\n",
    "For positve tweets, we can see a huge peak in comp_score from around 0.5 and the peak diminishes around 0.75. This could be due to the fact that tweets having comp_score of more than 0.5 are classified as \"Highly Positive\" and not just \"Positive\". However, we could see quite a few tweets which have comp_score of more than 0.75 being classified as only \"Positive\" and not \"Highly Positive\", this could be due to the fact that those tweets might be having a very high neu_score or neg_score."
   ]
  },
  {
   "cell_type": "markdown",
   "id": "fe882f45-582a-4ffb-b0ec-6fb2a059ebf6",
   "metadata": {},
   "source": [
    "#### Extremely Positive"
   ]
  },
  {
   "cell_type": "code",
   "execution_count": 84,
   "id": "b6ea3dcf-5f87-4822-a8f8-46c98bd8821b",
   "metadata": {},
   "outputs": [
    {
     "data": {
      "text/plain": [
       "<AxesSubplot:xlabel='comp_score', ylabel='Count'>"
      ]
     },
     "execution_count": 84,
     "metadata": {},
     "output_type": "execute_result"
    },
    {
     "data": {
      "image/png": "[encoded data removed]",
      "text/plain": [
       "<Figure size 792x648 with 1 Axes>"
      ]
     },
     "metadata": {
      "needs_background": "light"
     },
     "output_type": "display_data"
    }
   ],
   "source": [
    "plt.figure(figsize=(11,9))\n",
    "sns.histplot(data=df2[df2['Sentiment']=='Extremely Positive'],x='comp_score',kde=True)"
   ]
  },
  {
   "cell_type": "code",
   "execution_count": 95,
   "id": "9ef8b17c-a97e-40c8-81fd-4ef50326c055",
   "metadata": {},
   "outputs": [
    {
     "data": {
      "text/html": [
       "<div>\n",
       "<style scoped>\n",
       "    .dataframe tbody tr th:only-of-type {\n",
       "        vertical-align: middle;\n",
       "    }\n",
       "\n",
       "    .dataframe tbody tr th {\n",
       "        vertical-align: top;\n",
       "    }\n",
       "\n",
       "    .dataframe thead th {\n",
       "        text-align: right;\n",
       "    }\n",
       "</style>\n",
       "<table border=\"1\" class=\"dataframe\">\n",
       "  <thead>\n",
       "    <tr style=\"text-align: right;\">\n",
       "      <th></th>\n",
       "      <th>OriginalTweet</th>\n",
       "      <th>Sentiment</th>\n",
       "      <th>pos_score</th>\n",
       "      <th>neg_score</th>\n",
       "      <th>neu_score</th>\n",
       "      <th>comp_score</th>\n",
       "    </tr>\n",
       "  </thead>\n",
       "  <tbody>\n",
       "    <tr>\n",
       "      <th>3738</th>\n",
       "      <td>Well...\\r\\r\\n The free testing won't work for ...</td>\n",
       "      <td>Extremely Positive</td>\n",
       "      <td>0.112</td>\n",
       "      <td>0.279</td>\n",
       "      <td>0.609</td>\n",
       "      <td>-0.7561</td>\n",
       "    </tr>\n",
       "  </tbody>\n",
       "</table>\n",
       "</div>"
      ],
      "text/plain": [
       "                                          OriginalTweet           Sentiment  \\\n",
       "3738  Well...\\r\\r\\n The free testing won't work for ...  Extremely Positive   \n",
       "\n",
       "      pos_score  neg_score  neu_score  comp_score  \n",
       "3738      0.112      0.279      0.609     -0.7561  "
      ]
     },
     "execution_count": 95,
     "metadata": {},
     "output_type": "execute_result"
    }
   ],
   "source": [
    "df2[(df2['Sentiment']=='Extremely Positive') & (df2['comp_score'] < -0.75)]"
   ]
  },
  {
   "cell_type": "markdown",
   "id": "eaf1b721-4d22-4c60-9603-92daedeae4af",
   "metadata": {},
   "source": [
    "#### Inference:\n",
    "In case of \"Highly Positive\" tweets, we can see a huge peak jump around 0.75 which diminshes at 1 (because 1 is the max score). This peak takes place right off from the point where the peak of \"Positive\" tweets end, proving our assumption (comp_score greater than 0.75 being classified as \"Highly Positive\" tweets) to be correct. We can even spot a few outliers having the comp_score of around -0.75, which could be due to the fact those tweets having high neg_score and neu_score than the pos_score. It could also be the case such tweets are misclassified (possibly due to some error in the initial classifying system)"
   ]
  },
  {
   "cell_type": "markdown",
   "id": "ff46d8e4-bded-403e-a22e-b12d9c390303",
   "metadata": {},
   "source": [
    "#### Negative"
   ]
  },
  {
   "cell_type": "code",
   "execution_count": 81,
   "id": "90d364eb-22eb-4c9e-aa5e-a9ca5afee06a",
   "metadata": {},
   "outputs": [
    {
     "data": {
      "text/plain": [
       "<AxesSubplot:xlabel='comp_score', ylabel='Count'>"
      ]
     },
     "execution_count": 81,
     "metadata": {},
     "output_type": "execute_result"
    },
    {
     "data": {
      "image/png": "[encoded data removed]",
      "text/plain": [
       "<Figure size 792x648 with 1 Axes>"
      ]
     },
     "metadata": {
      "needs_background": "light"
     },
     "output_type": "display_data"
    }
   ],
   "source": [
    "plt.figure(figsize=(11,9))\n",
    "sns.histplot(data=df2[df2['Sentiment']=='Negative'],x='comp_score',kde=True)"
   ]
  },
  {
   "cell_type": "markdown",
   "id": "bbe55a83-fff1-4bf3-a805-57e7afc9e719",
   "metadata": {},
   "source": [
    "#### Inference:\n",
    "We can see that the peak of this graph is wobbly and is on the negative side. There is no \"one peak\", however, we can say that the region of peak starts from around -0.25 and ends a little bit before -0.75. This could be due to the fact that the statements having comp_score lower than -0.75 are classified as \"Highly Negative\" instead of just \"Negative\""
   ]
  },
  {
   "cell_type": "markdown",
   "id": "712c8570-41dd-4378-af4e-25874b9b7f4f",
   "metadata": {},
   "source": [
    "#### Extremely Negative"
   ]
  },
  {
   "cell_type": "code",
   "execution_count": 83,
   "id": "5c678410-8683-4698-b699-77005cccb95f",
   "metadata": {},
   "outputs": [
    {
     "data": {
      "text/plain": [
       "<AxesSubplot:xlabel='comp_score', ylabel='Count'>"
      ]
     },
     "execution_count": 83,
     "metadata": {},
     "output_type": "execute_result"
    },
    {
     "data": {
      "image/png": "[encoded data removed]",
      "text/plain": [
       "<Figure size 792x648 with 1 Axes>"
      ]
     },
     "metadata": {
      "needs_background": "light"
     },
     "output_type": "display_data"
    }
   ],
   "source": [
    "plt.figure(figsize=(11,9))\n",
    "sns.histplot(data=df2[df2['Sentiment']=='Extremely Negative'],x='comp_score',kde=True)"
   ]
  },
  {
   "cell_type": "code",
   "execution_count": 96,
   "id": "3c3938d5-1482-41d4-8e76-d627a968f78b",
   "metadata": {},
   "outputs": [
    {
     "data": {
      "text/html": [
       "<div>\n",
       "<style scoped>\n",
       "    .dataframe tbody tr th:only-of-type {\n",
       "        vertical-align: middle;\n",
       "    }\n",
       "\n",
       "    .dataframe tbody tr th {\n",
       "        vertical-align: top;\n",
       "    }\n",
       "\n",
       "    .dataframe thead th {\n",
       "        text-align: right;\n",
       "    }\n",
       "</style>\n",
       "<table border=\"1\" class=\"dataframe\">\n",
       "  <thead>\n",
       "    <tr style=\"text-align: right;\">\n",
       "      <th></th>\n",
       "      <th>OriginalTweet</th>\n",
       "      <th>Sentiment</th>\n",
       "      <th>pos_score</th>\n",
       "      <th>neg_score</th>\n",
       "      <th>neu_score</th>\n",
       "      <th>comp_score</th>\n",
       "    </tr>\n",
       "  </thead>\n",
       "  <tbody>\n",
       "    <tr>\n",
       "      <th>5485</th>\n",
       "      <td>Stay home if you can! Please, this COVID-19 is...</td>\n",
       "      <td>Extremely Negative</td>\n",
       "      <td>0.200</td>\n",
       "      <td>0.032</td>\n",
       "      <td>0.768</td>\n",
       "      <td>0.7763</td>\n",
       "    </tr>\n",
       "    <tr>\n",
       "      <th>19850</th>\n",
       "      <td>Gas prices are falling across the US, but cons...</td>\n",
       "      <td>Extremely Negative</td>\n",
       "      <td>0.267</td>\n",
       "      <td>0.159</td>\n",
       "      <td>0.574</td>\n",
       "      <td>0.7523</td>\n",
       "    </tr>\n",
       "  </tbody>\n",
       "</table>\n",
       "</div>"
      ],
      "text/plain": [
       "                                           OriginalTweet           Sentiment  \\\n",
       "5485   Stay home if you can! Please, this COVID-19 is...  Extremely Negative   \n",
       "19850  Gas prices are falling across the US, but cons...  Extremely Negative   \n",
       "\n",
       "       pos_score  neg_score  neu_score  comp_score  \n",
       "5485       0.200      0.032      0.768      0.7763  \n",
       "19850      0.267      0.159      0.574      0.7523  "
      ]
     },
     "execution_count": 96,
     "metadata": {},
     "output_type": "execute_result"
    }
   ],
   "source": [
    "df2[(df2['Sentiment']=='Extremely Negative') & (df2['comp_score'] > 0.75)]"
   ]
  },
  {
   "cell_type": "markdown",
   "id": "ce56620e-a5e1-4108-83af-6c85028f1d34",
   "metadata": {},
   "source": [
    "#### Inference:\n",
    "In case of \"Highly Negative\" tweets, we can see a huge peak jump around -0.75 which diminshes at 1 (because -1 is the min score). This peak takes place right off from the point where the peak of \"Negative\" tweets end, proving our assumption (comp_score less than -0.75 being classified as \"Highly Negative\" tweets) to be correct. We can even spot a few outliers having the comp_score of around +0.75, which could be due to the fact those tweets having high pos_score and neu_score than the pos_score. It could also be the case such tweets are misclassified (possibly due to some error in the initial classifying system)"
   ]
  },
  {
   "cell_type": "markdown",
   "id": "bd6bfeed-aadf-4f98-9cc3-d7b766b6d6d1",
   "metadata": {},
   "source": [
    "#### Note:\n",
    "We can notice that the graphs of \"Highly Positive\" and \"Highly Negative\" graphs are almost mirror image of each other, indicating an almost symmetric distribution around the \"Extreme\" values. This was also noticed earlier when we plotted \"neu_score\" "
   ]
  },
  {
   "cell_type": "markdown",
   "id": "3d819467-44ab-4eea-b7aa-67d8a9bbfecd",
   "metadata": {},
   "source": [
    "## Implementing ML algos"
   ]
  },
  {
   "cell_type": "markdown",
   "id": "0fd4b422-7956-46b7-8c2f-0d90eea2ca58",
   "metadata": {},
   "source": [
    "#### Splitting the data into train and test set"
   ]
  },
  {
   "cell_type": "code",
   "execution_count": 11,
   "id": "55ee58cd-8916-4b80-b21c-2550a6c7bd7a",
   "metadata": {},
   "outputs": [],
   "source": [
    "X = df_tweets['OriginalTweet']\n",
    "y = df_tweets['Sentiment']"
   ]
  },
  {
   "cell_type": "code",
   "execution_count": 12,
   "id": "33af56a9-f9a1-4742-87f4-5ca0a913b261",
   "metadata": {},
   "outputs": [],
   "source": [
    "from sklearn.model_selection import train_test_split"
   ]
  },
  {
   "cell_type": "code",
   "execution_count": 13,
   "id": "bd75a91d-e2eb-4fa6-b783-6a5982a497eb",
   "metadata": {},
   "outputs": [],
   "source": [
    "X_train, X_test, y_train, y_test = train_test_split(X, y, test_size=0.33, random_state=42)"
   ]
  },
  {
   "cell_type": "markdown",
   "id": "d1ab9048-e5f5-4e99-b4f9-948b4707478d",
   "metadata": {},
   "source": [
    "#### Creating pipelines (including Tfidf vectorization and then using classification algorithm)"
   ]
  },
  {
   "cell_type": "code",
   "execution_count": 14,
   "id": "1535607e-5a16-44c1-878f-d2a452ca564a",
   "metadata": {},
   "outputs": [],
   "source": [
    "from sklearn.pipeline import Pipeline"
   ]
  },
  {
   "cell_type": "code",
   "execution_count": 10,
   "id": "cce41c89-7d47-472c-b82a-13fb21394250",
   "metadata": {},
   "outputs": [],
   "source": [
    "from sklearn.feature_extraction.text import TfidfVectorizer"
   ]
  },
  {
   "cell_type": "code",
   "execution_count": 15,
   "id": "d8c3b4bd-3b55-40ec-9354-1faa084f0b17",
   "metadata": {},
   "outputs": [],
   "source": [
    "from sklearn.linear_model import LogisticRegression\n",
    "from sklearn.svm import SVC,LinearSVC\n",
    "from sklearn.naive_bayes import MultinomialNB"
   ]
  },
  {
   "cell_type": "code",
   "execution_count": 42,
   "id": "863ec529-0bec-463f-818a-1ceebe627a75",
   "metadata": {},
   "outputs": [],
   "source": [
    "p1 = Pipeline([('tfidf',TfidfVectorizer()), ('lr',LogisticRegression(max_iter=1000000,solver='saga'))]) # Logistic regression pipeline\n",
    "p2 =  Pipeline([('tfidf',TfidfVectorizer()), ('lsvc',LinearSVC(random_state=42))]) # Linear SVC regression pipeline\n",
    "p3 = Pipeline([('tfidf',TfidfVectorizer()), ('svc',SVC(random_state=42))]) # SVC regression pipeline\n",
    "p4 =  Pipeline([('tfidf',TfidfVectorizer()), ('mnb',MultinomialNB())]) # Multinomial Naive bayes regression pipeline"
   ]
  },
  {
   "cell_type": "markdown",
   "id": "fca87b5d-62be-48b5-a27f-48efda6f03ab",
   "metadata": {},
   "source": [
    "#### 1) Logistic Regression"
   ]
  },
  {
   "cell_type": "code",
   "execution_count": 39,
   "id": "2d8174d8-ea6f-4f73-a329-fc8092531e4b",
   "metadata": {},
   "outputs": [
    {
     "data": {
      "text/plain": [
       "Pipeline(steps=[('tfidf', TfidfVectorizer()),\n",
       "                ('lr', LogisticRegression(max_iter=1000000, solver='saga'))])"
      ]
     },
     "execution_count": 39,
     "metadata": {},
     "output_type": "execute_result"
    }
   ],
   "source": [
    "p1.fit(X_train,y_train)"
   ]
  },
  {
   "cell_type": "code",
   "execution_count": 40,
   "id": "db0f8b7e-1207-4025-ba9b-86946b0cf348",
   "metadata": {},
   "outputs": [],
   "source": [
    "lr_pred = p1.predict(X_test)"
   ]
  },
  {
   "cell_type": "code",
   "execution_count": 21,
   "id": "5ba039bc-c909-4173-847f-5ab1d518cb3d",
   "metadata": {},
   "outputs": [],
   "source": [
    "from sklearn.metrics import classification_report,confusion_matrix"
   ]
  },
  {
   "cell_type": "code",
   "execution_count": 41,
   "id": "58aac5b1-935a-4c6a-b835-4f99237493ad",
   "metadata": {},
   "outputs": [
    {
     "name": "stdout",
     "output_type": "stream",
     "text": [
      "                    precision    recall  f1-score   support\n",
      "\n",
      "Extremely Negative       0.60      0.48      0.53      1753\n",
      "Extremely Positive       0.66      0.54      0.60      2190\n",
      "          Negative       0.49      0.50      0.50      3300\n",
      "           Neutral       0.62      0.63      0.63      2518\n",
      "          Positive       0.51      0.60      0.55      3821\n",
      "\n",
      "          accuracy                           0.56     13582\n",
      "         macro avg       0.58      0.55      0.56     13582\n",
      "      weighted avg       0.56      0.56      0.56     13582\n",
      "\n",
      "[[ 834   23  715   70  111]\n",
      " [  16 1186   74   59  855]\n",
      " [ 414   80 1661  431  714]\n",
      " [  33   30  349 1594  512]\n",
      " [  87  467  575  401 2291]]\n"
     ]
    }
   ],
   "source": [
    "print(classification_report(y_test,lr_pred))\n",
    "print(confusion_matrix(y_test,lr_pred))"
   ]
  },
  {
   "cell_type": "markdown",
   "id": "bc9f5ab5-f631-47c0-a1bd-010f89f2b1f4",
   "metadata": {},
   "source": [
    "#### 2) Linear SVC"
   ]
  },
  {
   "cell_type": "code",
   "execution_count": 24,
   "id": "ec78d15f-d7ef-4175-abb3-1dcd75a4bd39",
   "metadata": {},
   "outputs": [
    {
     "name": "stdout",
     "output_type": "stream",
     "text": [
      "                    precision    recall  f1-score   support\n",
      "\n",
      "Extremely Negative       0.58      0.63      0.60      1753\n",
      "Extremely Positive       0.60      0.67      0.63      2190\n",
      "          Negative       0.49      0.44      0.46      3300\n",
      "           Neutral       0.62      0.64      0.63      2518\n",
      "          Positive       0.51      0.49      0.50      3821\n",
      "\n",
      "          accuracy                           0.55     13582\n",
      "         macro avg       0.56      0.57      0.57     13582\n",
      "      weighted avg       0.55      0.55      0.55     13582\n",
      "\n",
      "[[1096   24  507   46   80]\n",
      " [  16 1458   56   52  608]\n",
      " [ 645  111 1464  428  652]\n",
      " [  44   43  359 1618  454]\n",
      " [  86  788  627  452 1868]]\n"
     ]
    }
   ],
   "source": [
    "p2.fit(X_train,y_train)\n",
    "lsvc_pred = p2.predict(X_test)\n",
    "print(classification_report(y_test,lsvc_pred))\n",
    "print(confusion_matrix(y_test,lsvc_pred))"
   ]
  },
  {
   "cell_type": "markdown",
   "id": "3c37e3f5-0c78-4b1b-abcc-49ff4728fa14",
   "metadata": {},
   "source": [
    "#### 3) SVC"
   ]
  },
  {
   "cell_type": "code",
   "execution_count": 43,
   "id": "396d47f1-c67d-48f6-a593-55c0d06932d4",
   "metadata": {},
   "outputs": [
    {
     "name": "stdout",
     "output_type": "stream",
     "text": [
      "                    precision    recall  f1-score   support\n",
      "\n",
      "Extremely Negative       0.70      0.44      0.54      1753\n",
      "Extremely Positive       0.76      0.49      0.60      2190\n",
      "          Negative       0.51      0.56      0.54      3300\n",
      "           Neutral       0.66      0.61      0.63      2518\n",
      "          Positive       0.51      0.68      0.58      3821\n",
      "\n",
      "          accuracy                           0.58     13582\n",
      "         macro avg       0.63      0.56      0.58     13582\n",
      "      weighted avg       0.60      0.58      0.58     13582\n",
      "\n",
      "[[ 763   10  786   52  142]\n",
      " [   8 1077   72   54  979]\n",
      " [ 253   43 1862  354  788]\n",
      " [  14   15  363 1535  591]\n",
      " [  55  271  574  330 2591]]\n"
     ]
    }
   ],
   "source": [
    "# SVC not good for this case\n",
    "p3.fit(X_train,y_train)\n",
    "svc_pred = p3.predict(X_test)\n",
    "print(classification_report(y_test,svc_pred))\n",
    "print(confusion_matrix(y_test,svc_pred))"
   ]
  },
  {
   "cell_type": "markdown",
   "id": "a81d2481-e319-43bd-89a9-68f8101cbf52",
   "metadata": {},
   "source": [
    "#### 4) Multinomial NB"
   ]
  },
  {
   "cell_type": "code",
   "execution_count": 28,
   "id": "72903e46-ee33-4d85-b7ee-c5047b6ee624",
   "metadata": {},
   "outputs": [
    {
     "name": "stdout",
     "output_type": "stream",
     "text": [
      "                    precision    recall  f1-score   support\n",
      "\n",
      "Extremely Negative       0.87      0.01      0.01      1753\n",
      "Extremely Positive       0.89      0.01      0.02      2190\n",
      "          Negative       0.40      0.34      0.37      3300\n",
      "           Neutral       0.85      0.05      0.09      2518\n",
      "          Positive       0.33      0.93      0.49      3821\n",
      "\n",
      "          accuracy                           0.35     13582\n",
      "         macro avg       0.67      0.27      0.20     13582\n",
      "      weighted avg       0.60      0.35      0.25     13582\n",
      "\n",
      "[[  13    0 1028    1  711]\n",
      " [   0   25   36    1 2128]\n",
      " [   2    0 1121   14 2163]\n",
      " [   0    1  346  116 2055]\n",
      " [   0    2  279    4 3536]]\n"
     ]
    }
   ],
   "source": [
    "p4.fit(X_train,y_train)\n",
    "mnb_pred = p4.predict(X_test)\n",
    "print(classification_report(y_test,mnb_pred))\n",
    "print(confusion_matrix(y_test,mnb_pred))"
   ]
  },
  {
   "cell_type": "markdown",
   "id": "4d4dcfe1-c54f-4217-a5ca-0f51edcf8acf",
   "metadata": {},
   "source": [
    "#### 5) Random Forest"
   ]
  },
  {
   "cell_type": "code",
   "execution_count": 29,
   "id": "b28c61ba-02b8-4aa3-9c62-ba8ce064a342",
   "metadata": {},
   "outputs": [],
   "source": [
    "from sklearn.ensemble import RandomForestClassifier"
   ]
  },
  {
   "cell_type": "code",
   "execution_count": 30,
   "id": "152c8eb9-f054-4d4a-b165-fb9cd5134371",
   "metadata": {},
   "outputs": [],
   "source": [
    "p5 = Pipeline([('tfidf',TfidfVectorizer()), ('rf',RandomForestClassifier(n_estimators=100,random_state=42))])"
   ]
  },
  {
   "cell_type": "code",
   "execution_count": 31,
   "id": "e055aec8-cfdb-4743-a2ee-f848c7f1c3c4",
   "metadata": {},
   "outputs": [
    {
     "name": "stdout",
     "output_type": "stream",
     "text": [
      "                    precision    recall  f1-score   support\n",
      "\n",
      "Extremely Negative       0.67      0.26      0.37      1753\n",
      "Extremely Positive       0.68      0.30      0.41      2190\n",
      "          Negative       0.44      0.44      0.44      3300\n",
      "           Neutral       0.50      0.64      0.56      2518\n",
      "          Positive       0.41      0.58      0.48      3821\n",
      "\n",
      "          accuracy                           0.47     13582\n",
      "         macro avg       0.54      0.44      0.45     13582\n",
      "      weighted avg       0.51      0.47      0.46     13582\n",
      "\n",
      "[[ 455   16  774  143  365]\n",
      " [  12  652  141  163 1222]\n",
      " [ 155   65 1457  617 1006]\n",
      " [  13   18  291 1621  575]\n",
      " [  42  209  651  707 2212]]\n"
     ]
    }
   ],
   "source": [
    "p5.fit(X_train,y_train)\n",
    "rf_pred = p5.predict(X_test)\n",
    "print(classification_report(y_test,rf_pred))\n",
    "print(confusion_matrix(y_test,rf_pred))"
   ]
  },
  {
   "cell_type": "markdown",
   "id": "eb825d05-91a5-43da-9252-04233eab1c5a",
   "metadata": {},
   "source": [
    "#### 6) XGBOOST"
   ]
  },
  {
   "cell_type": "code",
   "execution_count": 44,
   "id": "b97bf558-4ca1-4765-a367-9817692aa95b",
   "metadata": {},
   "outputs": [],
   "source": [
    "from xgboost import XGBClassifier"
   ]
  },
  {
   "cell_type": "code",
   "execution_count": 45,
   "id": "dbff44bb-2f7b-48cd-8068-5eb12dd7a8fd",
   "metadata": {},
   "outputs": [],
   "source": [
    "p6 = Pipeline([('tfidf',TfidfVectorizer()), (\"xgb\",XGBClassifier(random_state=42,booster='dart'))])"
   ]
  },
  {
   "cell_type": "code",
   "execution_count": 46,
   "id": "c9470b65-2dd6-4baa-92ad-ef74d14d0c39",
   "metadata": {},
   "outputs": [
    {
     "name": "stderr",
     "output_type": "stream",
     "text": [
      "E:\\anaconda\\lib\\site-packages\\xgboost\\sklearn.py:888: UserWarning: The use of label encoder in XGBClassifier is deprecated and will be removed in a future release. To remove this warning, do the following: 1) Pass option use_label_encoder=False when constructing XGBClassifier object; and 2) Encode your labels (y) as integers starting with 0, i.e. 0, 1, 2, ..., [num_class - 1].\n",
      "  warnings.warn(label_encoder_deprecation_msg, UserWarning)\n"
     ]
    },
    {
     "name": "stdout",
     "output_type": "stream",
     "text": [
      "[02:46:28] WARNING: C:/Users/Administrator/workspace/xgboost-win64_release_1.3.0/src/learner.cc:1061: Starting in XGBoost 1.3.0, the default evaluation metric used with the objective 'multi:softprob' was changed from 'merror' to 'mlogloss'. Explicitly set eval_metric if you'd like to restore the old behavior.\n",
      "                    precision    recall  f1-score   support\n",
      "\n",
      "Extremely Negative       0.61      0.47      0.53      1753\n",
      "Extremely Positive       0.66      0.48      0.56      2190\n",
      "          Negative       0.52      0.44      0.47      3300\n",
      "           Neutral       0.54      0.75      0.63      2518\n",
      "          Positive       0.49      0.56      0.52      3821\n",
      "\n",
      "          accuracy                           0.54     13582\n",
      "         macro avg       0.57      0.54      0.54     13582\n",
      "      weighted avg       0.55      0.54      0.54     13582\n",
      "\n",
      "[[ 821   36  569  155  172]\n",
      " [  15 1053   81  106  935]\n",
      " [ 370   99 1449  654  728]\n",
      " [  32   21  180 1892  393]\n",
      " [ 102  378  529  666 2146]]\n"
     ]
    }
   ],
   "source": [
    "p6.fit(X_train,y_train)\n",
    "xgb_pred = p6.predict(X_test)\n",
    "print(classification_report(y_test,xgb_pred))\n",
    "print(confusion_matrix(y_test,xgb_pred))"
   ]
  },
  {
   "cell_type": "markdown",
   "id": "878a0773-2296-4cfd-bb93-c8f25cf7e0f9",
   "metadata": {},
   "source": [
    "#### 7) XGBRFBOOST"
   ]
  },
  {
   "cell_type": "code",
   "execution_count": 47,
   "id": "1cdaaf81-5c7e-43c3-85f8-aaad069d2ae9",
   "metadata": {},
   "outputs": [],
   "source": [
    "from xgboost import XGBRFClassifier"
   ]
  },
  {
   "cell_type": "code",
   "execution_count": 49,
   "id": "1886e315-3f85-490e-b88f-ccaec1281ea6",
   "metadata": {},
   "outputs": [
    {
     "name": "stderr",
     "output_type": "stream",
     "text": [
      "E:\\anaconda\\lib\\site-packages\\xgboost\\sklearn.py:888: UserWarning: The use of label encoder in XGBClassifier is deprecated and will be removed in a future release. To remove this warning, do the following: 1) Pass option use_label_encoder=False when constructing XGBClassifier object; and 2) Encode your labels (y) as integers starting with 0, i.e. 0, 1, 2, ..., [num_class - 1].\n",
      "  warnings.warn(label_encoder_deprecation_msg, UserWarning)\n"
     ]
    },
    {
     "name": "stdout",
     "output_type": "stream",
     "text": [
      "[02:52:06] WARNING: C:/Users/Administrator/workspace/xgboost-win64_release_1.3.0/src/learner.cc:1061: Starting in XGBoost 1.3.0, the default evaluation metric used with the objective 'multi:softprob' was changed from 'merror' to 'mlogloss'. Explicitly set eval_metric if you'd like to restore the old behavior.\n",
      "                    precision    recall  f1-score   support\n",
      "\n",
      "Extremely Negative       0.52      0.32      0.40      1753\n",
      "Extremely Positive       0.53      0.33      0.40      2190\n",
      "          Negative       0.45      0.22      0.30      3300\n",
      "           Neutral       0.42      0.45      0.44      2518\n",
      "          Positive       0.33      0.58      0.42      3821\n",
      "\n",
      "          accuracy                           0.40     13582\n",
      "         macro avg       0.45      0.38      0.39     13582\n",
      "      weighted avg       0.43      0.40      0.39     13582\n",
      "\n",
      "[[ 565   43  350  154  641]\n",
      " [  46  718   81  179 1166]\n",
      " [ 338  123  732  568 1539]\n",
      " [  33   25   80 1141 1239]\n",
      " [ 109  452  377  669 2214]]\n"
     ]
    }
   ],
   "source": [
    "p7 = Pipeline([('tfidf',TfidfVectorizer()), (\"xgbrf\",XGBRFClassifier(random_state=42,booster='dart'))])\n",
    "p7.fit(X_train,y_train)\n",
    "xgbrf_pred = p7.predict(X_test)\n",
    "print(classification_report(y_test,xgbrf_pred))\n",
    "print(confusion_matrix(y_test,xgbrf_pred))"
   ]
  },
  {
   "cell_type": "markdown",
   "id": "f7e9d18a-fe9a-442f-97da-a90df5ed918b",
   "metadata": {},
   "source": [
    "#### 8) Catboost"
   ]
  },
  {
   "cell_type": "code",
   "execution_count": 50,
   "id": "49d835da-03c8-4580-b84b-0b09c75af827",
   "metadata": {},
   "outputs": [],
   "source": [
    "from catboost import CatBoostClassifier"
   ]
  },
  {
   "cell_type": "code",
   "execution_count": 53,
   "id": "78b4da17-48b3-4e4f-8829-8ebcecd1176f",
   "metadata": {},
   "outputs": [],
   "source": [
    "tfidf = TfidfVectorizer()"
   ]
  },
  {
   "cell_type": "code",
   "execution_count": 54,
   "id": "202bf567-4256-4cb2-b882-5b26edaf23d5",
   "metadata": {},
   "outputs": [],
   "source": [
    "X_train_vect = tfidf.fit_transform(X_train)\n",
    "X_test_vect = tfidf.transform(X_test)"
   ]
  },
  {
   "cell_type": "code",
   "execution_count": 58,
   "id": "4815fd2c-a58a-4a66-8a8d-07a880edbbc5",
   "metadata": {},
   "outputs": [
    {
     "name": "stdout",
     "output_type": "stream",
     "text": [
      "Learning rate set to 0.093711\n",
      "0:\tlearn: 1.5874382\ttotal: 16.6s\tremaining: 4h 36m 18s\n",
      "1:\tlearn: 1.5683432\ttotal: 21.2s\tremaining: 2h 56m 12s\n",
      "2:\tlearn: 1.5508502\ttotal: 22.7s\tremaining: 2h 5m 32s\n",
      "3:\tlearn: 1.5358196\ttotal: 24.2s\tremaining: 1h 40m 27s\n",
      "4:\tlearn: 1.5228087\ttotal: 25.6s\tremaining: 1h 25m 1s\n",
      "5:\tlearn: 1.5121974\ttotal: 27s\tremaining: 1h 14m 37s\n",
      "6:\tlearn: 1.5018813\ttotal: 28.4s\tremaining: 1h 7m 5s\n",
      "7:\tlearn: 1.4900895\ttotal: 29.7s\tremaining: 1h 1m 25s\n",
      "8:\tlearn: 1.4819609\ttotal: 31.1s\tremaining: 57m 1s\n",
      "9:\tlearn: 1.4742165\ttotal: 32.4s\tremaining: 53m 31s\n",
      "10:\tlearn: 1.4659796\ttotal: 33.9s\tremaining: 50m 45s\n",
      "11:\tlearn: 1.4594622\ttotal: 35.2s\tremaining: 48m 19s\n",
      "12:\tlearn: 1.4534198\ttotal: 36.6s\tremaining: 46m 18s\n",
      "13:\tlearn: 1.4476310\ttotal: 38s\tremaining: 44m 34s\n",
      "14:\tlearn: 1.4429218\ttotal: 39.6s\tremaining: 43m 18s\n",
      "15:\tlearn: 1.4375995\ttotal: 41s\tremaining: 42m 3s\n",
      "16:\tlearn: 1.4333447\ttotal: 42.4s\tremaining: 40m 52s\n",
      "17:\tlearn: 1.4287142\ttotal: 43.8s\tremaining: 39m 50s\n",
      "18:\tlearn: 1.4234941\ttotal: 45.2s\tremaining: 38m 53s\n",
      "19:\tlearn: 1.4194609\ttotal: 46.6s\tremaining: 38m 4s\n",
      "20:\tlearn: 1.4150920\ttotal: 48s\tremaining: 37m 16s\n",
      "21:\tlearn: 1.4114058\ttotal: 49.4s\tremaining: 36m 35s\n",
      "22:\tlearn: 1.4082539\ttotal: 50.8s\tremaining: 35m 57s\n",
      "23:\tlearn: 1.4045688\ttotal: 52.2s\tremaining: 35m 23s\n",
      "24:\tlearn: 1.4006089\ttotal: 53.6s\tremaining: 34m 50s\n",
      "25:\tlearn: 1.3970120\ttotal: 55.1s\tremaining: 34m 25s\n",
      "26:\tlearn: 1.3939818\ttotal: 56.6s\tremaining: 33m 58s\n",
      "27:\tlearn: 1.3908046\ttotal: 58s\tremaining: 33m 33s\n",
      "28:\tlearn: 1.3882023\ttotal: 59.4s\tremaining: 33m 7s\n",
      "29:\tlearn: 1.3858503\ttotal: 1m\tremaining: 32m 48s\n",
      "30:\tlearn: 1.3826501\ttotal: 1m 2s\tremaining: 32m 30s\n",
      "31:\tlearn: 1.3797147\ttotal: 1m 3s\tremaining: 32m 11s\n",
      "32:\tlearn: 1.3776514\ttotal: 1m 5s\tremaining: 31m 51s\n",
      "33:\tlearn: 1.3749836\ttotal: 1m 6s\tremaining: 31m 37s\n",
      "34:\tlearn: 1.3728133\ttotal: 1m 8s\tremaining: 31m 22s\n",
      "35:\tlearn: 1.3701901\ttotal: 1m 9s\tremaining: 31m 6s\n",
      "36:\tlearn: 1.3672386\ttotal: 1m 11s\tremaining: 30m 57s\n",
      "37:\tlearn: 1.3648119\ttotal: 1m 12s\tremaining: 30m 43s\n",
      "38:\tlearn: 1.3620313\ttotal: 1m 14s\tremaining: 30m 30s\n",
      "39:\tlearn: 1.3596611\ttotal: 1m 15s\tremaining: 30m 17s\n",
      "40:\tlearn: 1.3573019\ttotal: 1m 17s\tremaining: 30m 4s\n",
      "41:\tlearn: 1.3551774\ttotal: 1m 18s\tremaining: 29m 53s\n",
      "42:\tlearn: 1.3528186\ttotal: 1m 20s\tremaining: 29m 42s\n",
      "43:\tlearn: 1.3510698\ttotal: 1m 21s\tremaining: 29m 31s\n",
      "44:\tlearn: 1.3496004\ttotal: 1m 22s\tremaining: 29m 19s\n",
      "45:\tlearn: 1.3476018\ttotal: 1m 24s\tremaining: 29m 8s\n",
      "46:\tlearn: 1.3455000\ttotal: 1m 25s\tremaining: 28m 58s\n",
      "47:\tlearn: 1.3438540\ttotal: 1m 27s\tremaining: 28m 52s\n",
      "48:\tlearn: 1.3414477\ttotal: 1m 28s\tremaining: 28m 42s\n",
      "49:\tlearn: 1.3396772\ttotal: 1m 30s\tremaining: 28m 33s\n",
      "50:\tlearn: 1.3374657\ttotal: 1m 31s\tremaining: 28m 23s\n",
      "51:\tlearn: 1.3357507\ttotal: 1m 32s\tremaining: 28m 14s\n",
      "52:\tlearn: 1.3339531\ttotal: 1m 34s\tremaining: 28m 6s\n",
      "53:\tlearn: 1.3323508\ttotal: 1m 35s\tremaining: 27m 58s\n",
      "54:\tlearn: 1.3304886\ttotal: 1m 37s\tremaining: 27m 50s\n",
      "55:\tlearn: 1.3288180\ttotal: 1m 38s\tremaining: 27m 42s\n",
      "56:\tlearn: 1.3273025\ttotal: 1m 40s\tremaining: 27m 35s\n",
      "57:\tlearn: 1.3257608\ttotal: 1m 41s\tremaining: 27m 28s\n",
      "58:\tlearn: 1.3244712\ttotal: 1m 43s\tremaining: 27m 23s\n",
      "59:\tlearn: 1.3230395\ttotal: 1m 44s\tremaining: 27m 17s\n",
      "60:\tlearn: 1.3211881\ttotal: 1m 45s\tremaining: 27m 10s\n",
      "61:\tlearn: 1.3195775\ttotal: 1m 47s\tremaining: 27m 3s\n",
      "62:\tlearn: 1.3175701\ttotal: 1m 48s\tremaining: 26m 57s\n",
      "63:\tlearn: 1.3160188\ttotal: 1m 50s\tremaining: 26m 51s\n",
      "64:\tlearn: 1.3146487\ttotal: 1m 51s\tremaining: 26m 45s\n",
      "65:\tlearn: 1.3128528\ttotal: 1m 53s\tremaining: 26m 39s\n",
      "66:\tlearn: 1.3112915\ttotal: 1m 54s\tremaining: 26m 33s\n",
      "67:\tlearn: 1.3095891\ttotal: 1m 55s\tremaining: 26m 27s\n",
      "68:\tlearn: 1.3077974\ttotal: 1m 57s\tremaining: 26m 21s\n",
      "69:\tlearn: 1.3068146\ttotal: 1m 58s\tremaining: 26m 17s\n",
      "70:\tlearn: 1.3058136\ttotal: 2m\tremaining: 26m 13s\n",
      "71:\tlearn: 1.3046010\ttotal: 2m 1s\tremaining: 26m 9s\n",
      "72:\tlearn: 1.3032568\ttotal: 2m 3s\tremaining: 26m 3s\n",
      "73:\tlearn: 1.3019243\ttotal: 2m 4s\tremaining: 25m 58s\n",
      "74:\tlearn: 1.3008220\ttotal: 2m 6s\tremaining: 25m 54s\n",
      "75:\tlearn: 1.2990639\ttotal: 2m 7s\tremaining: 25m 49s\n",
      "76:\tlearn: 1.2977714\ttotal: 2m 8s\tremaining: 25m 44s\n",
      "77:\tlearn: 1.2965085\ttotal: 2m 10s\tremaining: 25m 39s\n",
      "78:\tlearn: 1.2951071\ttotal: 2m 11s\tremaining: 25m 34s\n",
      "79:\tlearn: 1.2933579\ttotal: 2m 13s\tremaining: 25m 30s\n",
      "80:\tlearn: 1.2921909\ttotal: 2m 14s\tremaining: 25m 27s\n",
      "81:\tlearn: 1.2906187\ttotal: 2m 16s\tremaining: 25m 24s\n",
      "82:\tlearn: 1.2892465\ttotal: 2m 17s\tremaining: 25m 19s\n",
      "83:\tlearn: 1.2884138\ttotal: 2m 18s\tremaining: 25m 15s\n",
      "84:\tlearn: 1.2870077\ttotal: 2m 20s\tremaining: 25m 11s\n",
      "85:\tlearn: 1.2857046\ttotal: 2m 21s\tremaining: 25m 6s\n",
      "86:\tlearn: 1.2844445\ttotal: 2m 23s\tremaining: 25m 2s\n",
      "87:\tlearn: 1.2826885\ttotal: 2m 24s\tremaining: 24m 58s\n",
      "88:\tlearn: 1.2817630\ttotal: 2m 25s\tremaining: 24m 54s\n",
      "89:\tlearn: 1.2804587\ttotal: 2m 27s\tremaining: 24m 50s\n",
      "90:\tlearn: 1.2793026\ttotal: 2m 28s\tremaining: 24m 46s\n",
      "91:\tlearn: 1.2786448\ttotal: 2m 30s\tremaining: 24m 43s\n",
      "92:\tlearn: 1.2773816\ttotal: 2m 31s\tremaining: 24m 41s\n",
      "93:\tlearn: 1.2760126\ttotal: 2m 33s\tremaining: 24m 37s\n",
      "94:\tlearn: 1.2751126\ttotal: 2m 34s\tremaining: 24m 35s\n",
      "95:\tlearn: 1.2738919\ttotal: 2m 36s\tremaining: 24m 31s\n",
      "96:\tlearn: 1.2726805\ttotal: 2m 37s\tremaining: 24m 28s\n",
      "97:\tlearn: 1.2719527\ttotal: 2m 39s\tremaining: 24m 24s\n",
      "98:\tlearn: 1.2711951\ttotal: 2m 40s\tremaining: 24m 21s\n",
      "99:\tlearn: 1.2702317\ttotal: 2m 41s\tremaining: 24m 17s\n",
      "100:\tlearn: 1.2692661\ttotal: 2m 43s\tremaining: 24m 14s\n",
      "101:\tlearn: 1.2682933\ttotal: 2m 44s\tremaining: 24m 10s\n",
      "102:\tlearn: 1.2671942\ttotal: 2m 46s\tremaining: 24m 8s\n",
      "103:\tlearn: 1.2658791\ttotal: 2m 47s\tremaining: 24m 6s\n",
      "104:\tlearn: 1.2646749\ttotal: 2m 49s\tremaining: 24m 2s\n",
      "105:\tlearn: 1.2634926\ttotal: 2m 50s\tremaining: 24m 1s\n",
      "106:\tlearn: 1.2622964\ttotal: 2m 52s\tremaining: 23m 57s\n",
      "107:\tlearn: 1.2611617\ttotal: 2m 53s\tremaining: 23m 54s\n",
      "108:\tlearn: 1.2598624\ttotal: 2m 55s\tremaining: 23m 51s\n",
      "109:\tlearn: 1.2586635\ttotal: 2m 56s\tremaining: 23m 48s\n",
      "110:\tlearn: 1.2578742\ttotal: 2m 57s\tremaining: 23m 44s\n",
      "111:\tlearn: 1.2568622\ttotal: 2m 59s\tremaining: 23m 42s\n",
      "112:\tlearn: 1.2556665\ttotal: 3m\tremaining: 23m 39s\n",
      "113:\tlearn: 1.2543836\ttotal: 3m 2s\tremaining: 23m 38s\n",
      "114:\tlearn: 1.2530595\ttotal: 3m 4s\tremaining: 23m 36s\n",
      "115:\tlearn: 1.2520809\ttotal: 3m 5s\tremaining: 23m 34s\n",
      "116:\tlearn: 1.2510532\ttotal: 3m 7s\tremaining: 23m 31s\n",
      "117:\tlearn: 1.2498758\ttotal: 3m 8s\tremaining: 23m 28s\n",
      "118:\tlearn: 1.2485254\ttotal: 3m 9s\tremaining: 23m 25s\n",
      "119:\tlearn: 1.2474380\ttotal: 3m 11s\tremaining: 23m 22s\n",
      "120:\tlearn: 1.2460643\ttotal: 3m 12s\tremaining: 23m 19s\n",
      "121:\tlearn: 1.2449048\ttotal: 3m 14s\tremaining: 23m 16s\n",
      "122:\tlearn: 1.2440557\ttotal: 3m 15s\tremaining: 23m 13s\n",
      "123:\tlearn: 1.2427394\ttotal: 3m 16s\tremaining: 23m 10s\n",
      "124:\tlearn: 1.2416516\ttotal: 3m 18s\tremaining: 23m 9s\n",
      "125:\tlearn: 1.2402658\ttotal: 3m 20s\tremaining: 23m 7s\n",
      "126:\tlearn: 1.2392384\ttotal: 3m 21s\tremaining: 23m 4s\n",
      "127:\tlearn: 1.2382126\ttotal: 3m 22s\tremaining: 23m 1s\n",
      "128:\tlearn: 1.2369173\ttotal: 3m 24s\tremaining: 22m 58s\n",
      "129:\tlearn: 1.2357084\ttotal: 3m 25s\tremaining: 22m 55s\n",
      "130:\tlearn: 1.2351660\ttotal: 3m 27s\tremaining: 22m 53s\n",
      "131:\tlearn: 1.2342184\ttotal: 3m 28s\tremaining: 22m 50s\n",
      "132:\tlearn: 1.2328266\ttotal: 3m 29s\tremaining: 22m 47s\n",
      "133:\tlearn: 1.2318408\ttotal: 3m 31s\tremaining: 22m 45s\n",
      "134:\tlearn: 1.2305147\ttotal: 3m 32s\tremaining: 22m 42s\n",
      "135:\tlearn: 1.2297090\ttotal: 3m 34s\tremaining: 22m 40s\n",
      "136:\tlearn: 1.2287325\ttotal: 3m 35s\tremaining: 22m 39s\n",
      "137:\tlearn: 1.2277175\ttotal: 3m 37s\tremaining: 22m 37s\n",
      "138:\tlearn: 1.2267721\ttotal: 3m 38s\tremaining: 22m 35s\n",
      "139:\tlearn: 1.2258411\ttotal: 3m 40s\tremaining: 22m 33s\n",
      "140:\tlearn: 1.2249976\ttotal: 3m 41s\tremaining: 22m 31s\n",
      "141:\tlearn: 1.2241123\ttotal: 3m 43s\tremaining: 22m 29s\n",
      "142:\tlearn: 1.2232305\ttotal: 3m 44s\tremaining: 22m 26s\n",
      "143:\tlearn: 1.2223032\ttotal: 3m 46s\tremaining: 22m 24s\n",
      "144:\tlearn: 1.2216044\ttotal: 3m 47s\tremaining: 22m 22s\n",
      "145:\tlearn: 1.2204914\ttotal: 3m 49s\tremaining: 22m 19s\n",
      "146:\tlearn: 1.2196888\ttotal: 3m 50s\tremaining: 22m 17s\n",
      "147:\tlearn: 1.2186464\ttotal: 3m 52s\tremaining: 22m 16s\n",
      "148:\tlearn: 1.2178664\ttotal: 3m 53s\tremaining: 22m 13s\n",
      "149:\tlearn: 1.2170753\ttotal: 3m 54s\tremaining: 22m 11s\n",
      "150:\tlearn: 1.2161632\ttotal: 3m 56s\tremaining: 22m 8s\n",
      "151:\tlearn: 1.2152969\ttotal: 3m 57s\tremaining: 22m 6s\n",
      "152:\tlearn: 1.2144653\ttotal: 3m 59s\tremaining: 22m 4s\n",
      "153:\tlearn: 1.2135558\ttotal: 4m\tremaining: 22m 1s\n",
      "154:\tlearn: 1.2127781\ttotal: 4m 2s\tremaining: 22m\n",
      "155:\tlearn: 1.2118935\ttotal: 4m 3s\tremaining: 21m 57s\n",
      "156:\tlearn: 1.2109036\ttotal: 4m 4s\tremaining: 21m 55s\n",
      "157:\tlearn: 1.2098169\ttotal: 4m 6s\tremaining: 21m 53s\n",
      "158:\tlearn: 1.2089004\ttotal: 4m 8s\tremaining: 21m 52s\n",
      "159:\tlearn: 1.2081455\ttotal: 4m 9s\tremaining: 21m 50s\n",
      "160:\tlearn: 1.2075009\ttotal: 4m 11s\tremaining: 21m 48s\n",
      "161:\tlearn: 1.2065972\ttotal: 4m 12s\tremaining: 21m 46s\n",
      "162:\tlearn: 1.2057493\ttotal: 4m 13s\tremaining: 21m 43s\n",
      "163:\tlearn: 1.2048592\ttotal: 4m 15s\tremaining: 21m 41s\n",
      "164:\tlearn: 1.2040056\ttotal: 4m 16s\tremaining: 21m 39s\n",
      "165:\tlearn: 1.2028867\ttotal: 4m 18s\tremaining: 21m 37s\n",
      "166:\tlearn: 1.2019363\ttotal: 4m 19s\tremaining: 21m 35s\n",
      "167:\tlearn: 1.2011900\ttotal: 4m 21s\tremaining: 21m 33s\n",
      "168:\tlearn: 1.2003238\ttotal: 4m 22s\tremaining: 21m 31s\n",
      "169:\tlearn: 1.1995295\ttotal: 4m 24s\tremaining: 21m 30s\n",
      "170:\tlearn: 1.1988734\ttotal: 4m 25s\tremaining: 21m 27s\n",
      "171:\tlearn: 1.1979011\ttotal: 4m 27s\tremaining: 21m 25s\n",
      "172:\tlearn: 1.1972039\ttotal: 4m 28s\tremaining: 21m 23s\n",
      "173:\tlearn: 1.1964511\ttotal: 4m 29s\tremaining: 21m 21s\n",
      "174:\tlearn: 1.1956130\ttotal: 4m 31s\tremaining: 21m 19s\n",
      "175:\tlearn: 1.1950537\ttotal: 4m 32s\tremaining: 21m 16s\n",
      "176:\tlearn: 1.1940912\ttotal: 4m 34s\tremaining: 21m 14s\n",
      "177:\tlearn: 1.1934130\ttotal: 4m 35s\tremaining: 21m 12s\n",
      "178:\tlearn: 1.1928923\ttotal: 4m 36s\tremaining: 21m 10s\n",
      "179:\tlearn: 1.1922391\ttotal: 4m 38s\tremaining: 21m 8s\n",
      "180:\tlearn: 1.1914829\ttotal: 4m 39s\tremaining: 21m 6s\n",
      "181:\tlearn: 1.1907759\ttotal: 4m 41s\tremaining: 21m 4s\n",
      "182:\tlearn: 1.1901386\ttotal: 4m 42s\tremaining: 21m 2s\n",
      "183:\tlearn: 1.1894524\ttotal: 4m 44s\tremaining: 21m 1s\n",
      "184:\tlearn: 1.1887081\ttotal: 4m 45s\tremaining: 20m 59s\n",
      "185:\tlearn: 1.1880680\ttotal: 4m 47s\tremaining: 20m 57s\n",
      "186:\tlearn: 1.1872450\ttotal: 4m 49s\tremaining: 20m 57s\n",
      "187:\tlearn: 1.1865113\ttotal: 4m 50s\tremaining: 20m 55s\n",
      "188:\tlearn: 1.1859090\ttotal: 4m 52s\tremaining: 20m 54s\n",
      "189:\tlearn: 1.1853143\ttotal: 4m 53s\tremaining: 20m 52s\n",
      "190:\tlearn: 1.1847506\ttotal: 4m 55s\tremaining: 20m 50s\n",
      "191:\tlearn: 1.1838799\ttotal: 4m 56s\tremaining: 20m 49s\n",
      "192:\tlearn: 1.1831943\ttotal: 4m 58s\tremaining: 20m 46s\n",
      "193:\tlearn: 1.1823083\ttotal: 4m 59s\tremaining: 20m 44s\n",
      "194:\tlearn: 1.1816487\ttotal: 5m 1s\tremaining: 20m 42s\n",
      "195:\tlearn: 1.1808225\ttotal: 5m 2s\tremaining: 20m 40s\n",
      "196:\tlearn: 1.1801097\ttotal: 5m 3s\tremaining: 20m 38s\n",
      "197:\tlearn: 1.1794269\ttotal: 5m 5s\tremaining: 20m 36s\n",
      "198:\tlearn: 1.1786634\ttotal: 5m 6s\tremaining: 20m 34s\n",
      "199:\tlearn: 1.1782658\ttotal: 5m 8s\tremaining: 20m 32s\n",
      "200:\tlearn: 1.1776731\ttotal: 5m 9s\tremaining: 20m 30s\n",
      "201:\tlearn: 1.1770434\ttotal: 5m 11s\tremaining: 20m 29s\n",
      "202:\tlearn: 1.1763297\ttotal: 5m 12s\tremaining: 20m 27s\n",
      "203:\tlearn: 1.1756747\ttotal: 5m 14s\tremaining: 20m 25s\n",
      "204:\tlearn: 1.1748980\ttotal: 5m 15s\tremaining: 20m 23s\n",
      "205:\tlearn: 1.1741518\ttotal: 5m 16s\tremaining: 20m 21s\n",
      "206:\tlearn: 1.1735469\ttotal: 5m 18s\tremaining: 20m 20s\n",
      "207:\tlearn: 1.1729836\ttotal: 5m 19s\tremaining: 20m 18s\n",
      "208:\tlearn: 1.1722693\ttotal: 5m 21s\tremaining: 20m 16s\n",
      "209:\tlearn: 1.1716291\ttotal: 5m 22s\tremaining: 20m 14s\n",
      "210:\tlearn: 1.1711934\ttotal: 5m 24s\tremaining: 20m 12s\n",
      "211:\tlearn: 1.1705414\ttotal: 5m 25s\tremaining: 20m 10s\n",
      "212:\tlearn: 1.1699724\ttotal: 5m 27s\tremaining: 20m 9s\n",
      "213:\tlearn: 1.1693089\ttotal: 5m 28s\tremaining: 20m 7s\n",
      "214:\tlearn: 1.1685812\ttotal: 5m 30s\tremaining: 20m 5s\n",
      "215:\tlearn: 1.1682120\ttotal: 5m 31s\tremaining: 20m 3s\n",
      "216:\tlearn: 1.1676519\ttotal: 5m 32s\tremaining: 20m 1s\n",
      "217:\tlearn: 1.1671322\ttotal: 5m 34s\tremaining: 19m 59s\n",
      "218:\tlearn: 1.1666378\ttotal: 5m 35s\tremaining: 19m 57s\n",
      "219:\tlearn: 1.1661490\ttotal: 5m 37s\tremaining: 19m 55s\n",
      "220:\tlearn: 1.1654186\ttotal: 5m 38s\tremaining: 19m 53s\n",
      "221:\tlearn: 1.1649460\ttotal: 5m 40s\tremaining: 19m 52s\n",
      "222:\tlearn: 1.1643794\ttotal: 5m 41s\tremaining: 19m 50s\n",
      "223:\tlearn: 1.1637928\ttotal: 5m 43s\tremaining: 19m 48s\n",
      "224:\tlearn: 1.1632752\ttotal: 5m 44s\tremaining: 19m 47s\n",
      "225:\tlearn: 1.1627327\ttotal: 5m 46s\tremaining: 19m 45s\n",
      "226:\tlearn: 1.1621261\ttotal: 5m 47s\tremaining: 19m 43s\n",
      "227:\tlearn: 1.1617358\ttotal: 5m 48s\tremaining: 19m 41s\n",
      "228:\tlearn: 1.1611645\ttotal: 5m 50s\tremaining: 19m 39s\n",
      "229:\tlearn: 1.1608106\ttotal: 5m 51s\tremaining: 19m 37s\n",
      "230:\tlearn: 1.1601050\ttotal: 5m 53s\tremaining: 19m 35s\n",
      "231:\tlearn: 1.1596064\ttotal: 5m 54s\tremaining: 19m 33s\n",
      "232:\tlearn: 1.1590631\ttotal: 5m 56s\tremaining: 19m 32s\n",
      "233:\tlearn: 1.1585762\ttotal: 5m 57s\tremaining: 19m 30s\n",
      "234:\tlearn: 1.1579240\ttotal: 5m 59s\tremaining: 19m 29s\n",
      "235:\tlearn: 1.1573802\ttotal: 6m\tremaining: 19m 27s\n",
      "236:\tlearn: 1.1568493\ttotal: 6m 2s\tremaining: 19m 26s\n",
      "237:\tlearn: 1.1562679\ttotal: 6m 3s\tremaining: 19m 25s\n",
      "238:\tlearn: 1.1555862\ttotal: 6m 5s\tremaining: 19m 23s\n",
      "239:\tlearn: 1.1551184\ttotal: 6m 6s\tremaining: 19m 21s\n",
      "240:\tlearn: 1.1547864\ttotal: 6m 8s\tremaining: 19m 20s\n",
      "241:\tlearn: 1.1543979\ttotal: 6m 9s\tremaining: 19m 18s\n",
      "242:\tlearn: 1.1538423\ttotal: 6m 11s\tremaining: 19m 16s\n",
      "243:\tlearn: 1.1533970\ttotal: 6m 12s\tremaining: 19m 15s\n",
      "244:\tlearn: 1.1529352\ttotal: 6m 14s\tremaining: 19m 14s\n",
      "245:\tlearn: 1.1525655\ttotal: 6m 16s\tremaining: 19m 13s\n",
      "246:\tlearn: 1.1519073\ttotal: 6m 17s\tremaining: 19m 11s\n",
      "247:\tlearn: 1.1511219\ttotal: 6m 19s\tremaining: 19m 9s\n",
      "248:\tlearn: 1.1505980\ttotal: 6m 20s\tremaining: 19m 8s\n",
      "249:\tlearn: 1.1501253\ttotal: 6m 22s\tremaining: 19m 6s\n",
      "250:\tlearn: 1.1495291\ttotal: 6m 23s\tremaining: 19m 4s\n",
      "251:\tlearn: 1.1490808\ttotal: 6m 24s\tremaining: 19m 2s\n",
      "252:\tlearn: 1.1484188\ttotal: 6m 26s\tremaining: 19m\n",
      "253:\tlearn: 1.1477642\ttotal: 6m 27s\tremaining: 18m 58s\n",
      "254:\tlearn: 1.1471303\ttotal: 6m 29s\tremaining: 18m 57s\n",
      "255:\tlearn: 1.1467393\ttotal: 6m 30s\tremaining: 18m 55s\n",
      "256:\tlearn: 1.1463950\ttotal: 6m 32s\tremaining: 18m 54s\n",
      "257:\tlearn: 1.1458815\ttotal: 6m 33s\tremaining: 18m 52s\n",
      "258:\tlearn: 1.1452821\ttotal: 6m 35s\tremaining: 18m 50s\n",
      "259:\tlearn: 1.1447084\ttotal: 6m 36s\tremaining: 18m 48s\n",
      "260:\tlearn: 1.1441801\ttotal: 6m 37s\tremaining: 18m 46s\n",
      "261:\tlearn: 1.1437214\ttotal: 6m 39s\tremaining: 18m 44s\n",
      "262:\tlearn: 1.1433129\ttotal: 6m 40s\tremaining: 18m 43s\n",
      "263:\tlearn: 1.1428730\ttotal: 6m 42s\tremaining: 18m 41s\n",
      "264:\tlearn: 1.1424193\ttotal: 6m 44s\tremaining: 18m 40s\n",
      "265:\tlearn: 1.1418454\ttotal: 6m 45s\tremaining: 18m 39s\n",
      "266:\tlearn: 1.1414500\ttotal: 6m 47s\tremaining: 18m 39s\n",
      "267:\tlearn: 1.1406866\ttotal: 6m 49s\tremaining: 18m 38s\n",
      "268:\tlearn: 1.1402452\ttotal: 6m 51s\tremaining: 18m 37s\n",
      "269:\tlearn: 1.1397426\ttotal: 6m 52s\tremaining: 18m 35s\n",
      "270:\tlearn: 1.1391804\ttotal: 6m 54s\tremaining: 18m 34s\n",
      "271:\tlearn: 1.1387422\ttotal: 6m 56s\tremaining: 18m 33s\n",
      "272:\tlearn: 1.1383080\ttotal: 6m 57s\tremaining: 18m 32s\n",
      "273:\tlearn: 1.1378885\ttotal: 6m 59s\tremaining: 18m 32s\n",
      "274:\tlearn: 1.1374692\ttotal: 7m 1s\tremaining: 18m 31s\n",
      "275:\tlearn: 1.1371058\ttotal: 7m 3s\tremaining: 18m 31s\n",
      "276:\tlearn: 1.1366887\ttotal: 7m 5s\tremaining: 18m 30s\n",
      "277:\tlearn: 1.1363177\ttotal: 7m 7s\tremaining: 18m 29s\n",
      "278:\tlearn: 1.1358374\ttotal: 7m 8s\tremaining: 18m 28s\n",
      "279:\tlearn: 1.1354123\ttotal: 7m 10s\tremaining: 18m 27s\n",
      "280:\tlearn: 1.1350219\ttotal: 7m 11s\tremaining: 18m 25s\n",
      "281:\tlearn: 1.1345274\ttotal: 7m 13s\tremaining: 18m 24s\n",
      "282:\tlearn: 1.1341985\ttotal: 7m 15s\tremaining: 18m 23s\n",
      "283:\tlearn: 1.1337556\ttotal: 7m 17s\tremaining: 18m 22s\n",
      "284:\tlearn: 1.1333651\ttotal: 7m 19s\tremaining: 18m 22s\n",
      "285:\tlearn: 1.1329773\ttotal: 7m 21s\tremaining: 18m 21s\n",
      "286:\tlearn: 1.1324329\ttotal: 7m 22s\tremaining: 18m 20s\n",
      "287:\tlearn: 1.1318657\ttotal: 7m 24s\tremaining: 18m 18s\n",
      "288:\tlearn: 1.1315021\ttotal: 7m 26s\tremaining: 18m 17s\n",
      "289:\tlearn: 1.1311265\ttotal: 7m 28s\tremaining: 18m 17s\n",
      "290:\tlearn: 1.1306714\ttotal: 7m 30s\tremaining: 18m 17s\n",
      "291:\tlearn: 1.1301361\ttotal: 7m 32s\tremaining: 18m 16s\n",
      "292:\tlearn: 1.1295967\ttotal: 7m 33s\tremaining: 18m 15s\n",
      "293:\tlearn: 1.1292120\ttotal: 7m 35s\tremaining: 18m 14s\n",
      "294:\tlearn: 1.1289455\ttotal: 7m 37s\tremaining: 18m 13s\n",
      "295:\tlearn: 1.1287140\ttotal: 7m 39s\tremaining: 18m 12s\n",
      "296:\tlearn: 1.1284038\ttotal: 7m 41s\tremaining: 18m 12s\n",
      "297:\tlearn: 1.1279244\ttotal: 7m 43s\tremaining: 18m 11s\n",
      "298:\tlearn: 1.1274672\ttotal: 7m 45s\tremaining: 18m 10s\n",
      "299:\tlearn: 1.1268195\ttotal: 7m 46s\tremaining: 18m 9s\n",
      "300:\tlearn: 1.1264020\ttotal: 7m 48s\tremaining: 18m 7s\n",
      "301:\tlearn: 1.1259411\ttotal: 7m 50s\tremaining: 18m 6s\n",
      "302:\tlearn: 1.1255464\ttotal: 7m 52s\tremaining: 18m 6s\n",
      "303:\tlearn: 1.1252992\ttotal: 7m 53s\tremaining: 18m 4s\n",
      "304:\tlearn: 1.1249831\ttotal: 7m 55s\tremaining: 18m 3s\n",
      "305:\tlearn: 1.1244788\ttotal: 7m 57s\tremaining: 18m 2s\n",
      "306:\tlearn: 1.1242158\ttotal: 7m 58s\tremaining: 18m 1s\n",
      "307:\tlearn: 1.1240450\ttotal: 8m\tremaining: 17m 59s\n",
      "308:\tlearn: 1.1234751\ttotal: 8m 2s\tremaining: 17m 58s\n",
      "309:\tlearn: 1.1229573\ttotal: 8m 4s\tremaining: 17m 57s\n",
      "310:\tlearn: 1.1227163\ttotal: 8m 5s\tremaining: 17m 56s\n",
      "311:\tlearn: 1.1224147\ttotal: 8m 7s\tremaining: 17m 55s\n",
      "312:\tlearn: 1.1219044\ttotal: 8m 9s\tremaining: 17m 53s\n",
      "313:\tlearn: 1.1214317\ttotal: 8m 10s\tremaining: 17m 51s\n",
      "314:\tlearn: 1.1207851\ttotal: 8m 12s\tremaining: 17m 50s\n",
      "315:\tlearn: 1.1203501\ttotal: 8m 13s\tremaining: 17m 48s\n",
      "316:\tlearn: 1.1198306\ttotal: 8m 15s\tremaining: 17m 46s\n",
      "317:\tlearn: 1.1193819\ttotal: 8m 16s\tremaining: 17m 44s\n",
      "318:\tlearn: 1.1190683\ttotal: 8m 18s\tremaining: 17m 43s\n",
      "319:\tlearn: 1.1187194\ttotal: 8m 19s\tremaining: 17m 41s\n",
      "320:\tlearn: 1.1184313\ttotal: 8m 21s\tremaining: 17m 39s\n",
      "321:\tlearn: 1.1180615\ttotal: 8m 22s\tremaining: 17m 38s\n",
      "322:\tlearn: 1.1177130\ttotal: 8m 24s\tremaining: 17m 36s\n",
      "323:\tlearn: 1.1172640\ttotal: 8m 25s\tremaining: 17m 35s\n",
      "324:\tlearn: 1.1168336\ttotal: 8m 27s\tremaining: 17m 33s\n",
      "325:\tlearn: 1.1163893\ttotal: 8m 28s\tremaining: 17m 32s\n",
      "326:\tlearn: 1.1159564\ttotal: 8m 30s\tremaining: 17m 30s\n",
      "327:\tlearn: 1.1155218\ttotal: 8m 32s\tremaining: 17m 29s\n",
      "328:\tlearn: 1.1151163\ttotal: 8m 33s\tremaining: 17m 27s\n",
      "329:\tlearn: 1.1146027\ttotal: 8m 35s\tremaining: 17m 26s\n",
      "330:\tlearn: 1.1141500\ttotal: 8m 36s\tremaining: 17m 24s\n",
      "331:\tlearn: 1.1137299\ttotal: 8m 38s\tremaining: 17m 22s\n",
      "332:\tlearn: 1.1133771\ttotal: 8m 40s\tremaining: 17m 21s\n",
      "333:\tlearn: 1.1128591\ttotal: 8m 41s\tremaining: 17m 20s\n",
      "334:\tlearn: 1.1124925\ttotal: 8m 43s\tremaining: 17m 19s\n",
      "335:\tlearn: 1.1120745\ttotal: 8m 44s\tremaining: 17m 17s\n",
      "336:\tlearn: 1.1117199\ttotal: 8m 46s\tremaining: 17m 15s\n",
      "337:\tlearn: 1.1114022\ttotal: 8m 47s\tremaining: 17m 13s\n",
      "338:\tlearn: 1.1111249\ttotal: 8m 49s\tremaining: 17m 12s\n",
      "339:\tlearn: 1.1109131\ttotal: 8m 50s\tremaining: 17m 10s\n",
      "340:\tlearn: 1.1103528\ttotal: 8m 52s\tremaining: 17m 8s\n",
      "341:\tlearn: 1.1101117\ttotal: 8m 53s\tremaining: 17m 7s\n",
      "342:\tlearn: 1.1096778\ttotal: 8m 55s\tremaining: 17m 5s\n",
      "343:\tlearn: 1.1093540\ttotal: 8m 57s\tremaining: 17m 4s\n",
      "344:\tlearn: 1.1090594\ttotal: 8m 58s\tremaining: 17m 2s\n",
      "345:\tlearn: 1.1088368\ttotal: 8m 59s\tremaining: 17m\n",
      "346:\tlearn: 1.1083556\ttotal: 9m 1s\tremaining: 16m 59s\n",
      "347:\tlearn: 1.1080184\ttotal: 9m 3s\tremaining: 16m 57s\n",
      "348:\tlearn: 1.1077854\ttotal: 9m 4s\tremaining: 16m 55s\n",
      "349:\tlearn: 1.1073362\ttotal: 9m 6s\tremaining: 16m 54s\n",
      "350:\tlearn: 1.1066988\ttotal: 9m 7s\tremaining: 16m 52s\n",
      "351:\tlearn: 1.1064238\ttotal: 9m 8s\tremaining: 16m 50s\n",
      "352:\tlearn: 1.1062389\ttotal: 9m 10s\tremaining: 16m 49s\n",
      "353:\tlearn: 1.1057244\ttotal: 9m 12s\tremaining: 16m 47s\n",
      "354:\tlearn: 1.1053613\ttotal: 9m 13s\tremaining: 16m 45s\n",
      "355:\tlearn: 1.1050462\ttotal: 9m 15s\tremaining: 16m 44s\n",
      "356:\tlearn: 1.1046414\ttotal: 9m 16s\tremaining: 16m 42s\n",
      "357:\tlearn: 1.1043248\ttotal: 9m 18s\tremaining: 16m 40s\n",
      "358:\tlearn: 1.1039965\ttotal: 9m 19s\tremaining: 16m 39s\n",
      "359:\tlearn: 1.1037028\ttotal: 9m 21s\tremaining: 16m 37s\n",
      "360:\tlearn: 1.1035458\ttotal: 9m 22s\tremaining: 16m 35s\n",
      "361:\tlearn: 1.1031595\ttotal: 9m 24s\tremaining: 16m 34s\n",
      "362:\tlearn: 1.1028141\ttotal: 9m 25s\tremaining: 16m 32s\n",
      "363:\tlearn: 1.1024881\ttotal: 9m 27s\tremaining: 16m 31s\n",
      "364:\tlearn: 1.1022299\ttotal: 9m 29s\tremaining: 16m 30s\n",
      "365:\tlearn: 1.1019918\ttotal: 9m 30s\tremaining: 16m 28s\n",
      "366:\tlearn: 1.1016216\ttotal: 9m 32s\tremaining: 16m 26s\n",
      "367:\tlearn: 1.1012134\ttotal: 9m 33s\tremaining: 16m 25s\n",
      "368:\tlearn: 1.1009217\ttotal: 9m 35s\tremaining: 16m 23s\n",
      "369:\tlearn: 1.1004897\ttotal: 9m 36s\tremaining: 16m 21s\n",
      "370:\tlearn: 1.1001955\ttotal: 9m 38s\tremaining: 16m 20s\n",
      "371:\tlearn: 1.0997311\ttotal: 9m 39s\tremaining: 16m 18s\n",
      "372:\tlearn: 1.0992584\ttotal: 9m 41s\tremaining: 16m 16s\n",
      "373:\tlearn: 1.0988761\ttotal: 9m 42s\tremaining: 16m 15s\n",
      "374:\tlearn: 1.0984087\ttotal: 9m 44s\tremaining: 16m 13s\n",
      "375:\tlearn: 1.0981234\ttotal: 9m 45s\tremaining: 16m 12s\n",
      "376:\tlearn: 1.0978126\ttotal: 9m 47s\tremaining: 16m 10s\n",
      "377:\tlearn: 1.0976186\ttotal: 9m 48s\tremaining: 16m 8s\n",
      "378:\tlearn: 1.0971787\ttotal: 9m 50s\tremaining: 16m 6s\n",
      "379:\tlearn: 1.0968052\ttotal: 9m 51s\tremaining: 16m 5s\n",
      "380:\tlearn: 1.0964838\ttotal: 9m 53s\tremaining: 16m 3s\n",
      "381:\tlearn: 1.0961017\ttotal: 9m 54s\tremaining: 16m 1s\n",
      "382:\tlearn: 1.0956870\ttotal: 9m 55s\tremaining: 16m\n",
      "383:\tlearn: 1.0954196\ttotal: 9m 57s\tremaining: 15m 58s\n",
      "384:\tlearn: 1.0950298\ttotal: 9m 59s\tremaining: 15m 56s\n",
      "385:\tlearn: 1.0946018\ttotal: 10m\tremaining: 15m 55s\n",
      "386:\tlearn: 1.0942264\ttotal: 10m 2s\tremaining: 15m 53s\n",
      "387:\tlearn: 1.0938987\ttotal: 10m 3s\tremaining: 15m 52s\n",
      "388:\tlearn: 1.0935201\ttotal: 10m 5s\tremaining: 15m 50s\n",
      "389:\tlearn: 1.0931829\ttotal: 10m 6s\tremaining: 15m 48s\n",
      "390:\tlearn: 1.0928119\ttotal: 10m 8s\tremaining: 15m 47s\n",
      "391:\tlearn: 1.0924608\ttotal: 10m 9s\tremaining: 15m 45s\n",
      "392:\tlearn: 1.0922491\ttotal: 10m 11s\tremaining: 15m 43s\n",
      "393:\tlearn: 1.0918859\ttotal: 10m 12s\tremaining: 15m 42s\n",
      "394:\tlearn: 1.0915056\ttotal: 10m 14s\tremaining: 15m 40s\n",
      "395:\tlearn: 1.0911717\ttotal: 10m 15s\tremaining: 15m 39s\n",
      "396:\tlearn: 1.0909152\ttotal: 10m 17s\tremaining: 15m 37s\n",
      "397:\tlearn: 1.0906291\ttotal: 10m 18s\tremaining: 15m 35s\n",
      "398:\tlearn: 1.0903757\ttotal: 10m 20s\tremaining: 15m 34s\n",
      "399:\tlearn: 1.0901047\ttotal: 10m 21s\tremaining: 15m 32s\n",
      "400:\tlearn: 1.0898157\ttotal: 10m 23s\tremaining: 15m 30s\n",
      "401:\tlearn: 1.0895389\ttotal: 10m 24s\tremaining: 15m 29s\n",
      "402:\tlearn: 1.0893033\ttotal: 10m 26s\tremaining: 15m 27s\n",
      "403:\tlearn: 1.0888863\ttotal: 10m 27s\tremaining: 15m 25s\n",
      "404:\tlearn: 1.0885662\ttotal: 10m 29s\tremaining: 15m 24s\n",
      "405:\tlearn: 1.0882486\ttotal: 10m 30s\tremaining: 15m 22s\n",
      "406:\tlearn: 1.0879402\ttotal: 10m 32s\tremaining: 15m 21s\n",
      "407:\tlearn: 1.0875782\ttotal: 10m 33s\tremaining: 15m 19s\n",
      "408:\tlearn: 1.0871950\ttotal: 10m 35s\tremaining: 15m 17s\n",
      "409:\tlearn: 1.0869531\ttotal: 10m 36s\tremaining: 15m 16s\n",
      "410:\tlearn: 1.0866983\ttotal: 10m 38s\tremaining: 15m 14s\n",
      "411:\tlearn: 1.0864593\ttotal: 10m 39s\tremaining: 15m 12s\n",
      "412:\tlearn: 1.0861326\ttotal: 10m 41s\tremaining: 15m 11s\n",
      "413:\tlearn: 1.0859837\ttotal: 10m 42s\tremaining: 15m 9s\n",
      "414:\tlearn: 1.0857941\ttotal: 10m 44s\tremaining: 15m 8s\n",
      "415:\tlearn: 1.0854441\ttotal: 10m 45s\tremaining: 15m 6s\n",
      "416:\tlearn: 1.0851074\ttotal: 10m 47s\tremaining: 15m 5s\n",
      "417:\tlearn: 1.0847920\ttotal: 10m 48s\tremaining: 15m 3s\n",
      "418:\tlearn: 1.0844030\ttotal: 10m 50s\tremaining: 15m 1s\n",
      "419:\tlearn: 1.0841450\ttotal: 10m 51s\tremaining: 15m\n",
      "420:\tlearn: 1.0839105\ttotal: 10m 53s\tremaining: 14m 58s\n",
      "421:\tlearn: 1.0837777\ttotal: 10m 54s\tremaining: 14m 56s\n",
      "422:\tlearn: 1.0834735\ttotal: 10m 56s\tremaining: 14m 55s\n",
      "423:\tlearn: 1.0832302\ttotal: 10m 57s\tremaining: 14m 53s\n",
      "424:\tlearn: 1.0830824\ttotal: 10m 59s\tremaining: 14m 51s\n",
      "425:\tlearn: 1.0828419\ttotal: 11m\tremaining: 14m 50s\n",
      "426:\tlearn: 1.0825904\ttotal: 11m 2s\tremaining: 14m 48s\n",
      "427:\tlearn: 1.0822219\ttotal: 11m 3s\tremaining: 14m 47s\n",
      "428:\tlearn: 1.0819617\ttotal: 11m 5s\tremaining: 14m 45s\n",
      "429:\tlearn: 1.0815985\ttotal: 11m 6s\tremaining: 14m 44s\n",
      "430:\tlearn: 1.0813917\ttotal: 11m 8s\tremaining: 14m 42s\n",
      "431:\tlearn: 1.0812054\ttotal: 11m 9s\tremaining: 14m 40s\n",
      "432:\tlearn: 1.0809755\ttotal: 11m 11s\tremaining: 14m 39s\n",
      "433:\tlearn: 1.0807254\ttotal: 11m 12s\tremaining: 14m 37s\n",
      "434:\tlearn: 1.0805475\ttotal: 11m 14s\tremaining: 14m 35s\n",
      "435:\tlearn: 1.0802834\ttotal: 11m 15s\tremaining: 14m 34s\n",
      "436:\tlearn: 1.0798457\ttotal: 11m 17s\tremaining: 14m 32s\n",
      "437:\tlearn: 1.0796577\ttotal: 11m 18s\tremaining: 14m 31s\n",
      "438:\tlearn: 1.0794209\ttotal: 11m 20s\tremaining: 14m 29s\n",
      "439:\tlearn: 1.0791926\ttotal: 11m 22s\tremaining: 14m 28s\n",
      "440:\tlearn: 1.0788690\ttotal: 11m 23s\tremaining: 14m 26s\n",
      "441:\tlearn: 1.0786169\ttotal: 11m 25s\tremaining: 14m 25s\n",
      "442:\tlearn: 1.0783673\ttotal: 11m 27s\tremaining: 14m 24s\n",
      "443:\tlearn: 1.0779817\ttotal: 11m 28s\tremaining: 14m 22s\n",
      "444:\tlearn: 1.0777976\ttotal: 11m 30s\tremaining: 14m 20s\n",
      "445:\tlearn: 1.0775332\ttotal: 11m 31s\tremaining: 14m 19s\n",
      "446:\tlearn: 1.0771852\ttotal: 11m 33s\tremaining: 14m 18s\n",
      "447:\tlearn: 1.0769869\ttotal: 11m 35s\tremaining: 14m 17s\n",
      "448:\tlearn: 1.0767257\ttotal: 11m 37s\tremaining: 14m 16s\n",
      "449:\tlearn: 1.0764940\ttotal: 11m 40s\tremaining: 14m 15s\n",
      "450:\tlearn: 1.0762767\ttotal: 11m 41s\tremaining: 14m 14s\n",
      "451:\tlearn: 1.0760548\ttotal: 11m 43s\tremaining: 14m 12s\n",
      "452:\tlearn: 1.0758284\ttotal: 11m 45s\tremaining: 14m 11s\n",
      "453:\tlearn: 1.0755429\ttotal: 11m 46s\tremaining: 14m 9s\n",
      "454:\tlearn: 1.0753687\ttotal: 11m 47s\tremaining: 14m 8s\n",
      "455:\tlearn: 1.0750277\ttotal: 11m 49s\tremaining: 14m 6s\n",
      "456:\tlearn: 1.0747579\ttotal: 11m 51s\tremaining: 14m 4s\n",
      "457:\tlearn: 1.0745368\ttotal: 11m 53s\tremaining: 14m 3s\n",
      "458:\tlearn: 1.0743982\ttotal: 11m 54s\tremaining: 14m 2s\n",
      "459:\tlearn: 1.0741830\ttotal: 11m 56s\tremaining: 14m\n",
      "460:\tlearn: 1.0739800\ttotal: 11m 57s\tremaining: 13m 59s\n",
      "461:\tlearn: 1.0735684\ttotal: 11m 59s\tremaining: 13m 57s\n",
      "462:\tlearn: 1.0732683\ttotal: 12m\tremaining: 13m 56s\n",
      "463:\tlearn: 1.0730155\ttotal: 12m 2s\tremaining: 13m 54s\n",
      "464:\tlearn: 1.0727905\ttotal: 12m 4s\tremaining: 13m 53s\n",
      "465:\tlearn: 1.0725232\ttotal: 12m 5s\tremaining: 13m 51s\n",
      "466:\tlearn: 1.0723051\ttotal: 12m 7s\tremaining: 13m 49s\n",
      "467:\tlearn: 1.0718675\ttotal: 12m 8s\tremaining: 13m 48s\n",
      "468:\tlearn: 1.0716164\ttotal: 12m 10s\tremaining: 13m 46s\n",
      "469:\tlearn: 1.0714102\ttotal: 12m 11s\tremaining: 13m 45s\n",
      "470:\tlearn: 1.0712159\ttotal: 12m 13s\tremaining: 13m 43s\n",
      "471:\tlearn: 1.0708479\ttotal: 12m 14s\tremaining: 13m 42s\n",
      "472:\tlearn: 1.0707067\ttotal: 12m 16s\tremaining: 13m 40s\n",
      "473:\tlearn: 1.0704985\ttotal: 12m 18s\tremaining: 13m 39s\n",
      "474:\tlearn: 1.0702226\ttotal: 12m 19s\tremaining: 13m 37s\n",
      "475:\tlearn: 1.0700128\ttotal: 12m 21s\tremaining: 13m 36s\n",
      "476:\tlearn: 1.0697774\ttotal: 12m 23s\tremaining: 13m 35s\n",
      "477:\tlearn: 1.0695253\ttotal: 12m 25s\tremaining: 13m 34s\n",
      "478:\tlearn: 1.0693292\ttotal: 12m 27s\tremaining: 13m 33s\n",
      "479:\tlearn: 1.0691404\ttotal: 12m 29s\tremaining: 13m 31s\n",
      "480:\tlearn: 1.0688960\ttotal: 12m 31s\tremaining: 13m 30s\n",
      "481:\tlearn: 1.0685756\ttotal: 12m 32s\tremaining: 13m 29s\n",
      "482:\tlearn: 1.0683307\ttotal: 12m 34s\tremaining: 13m 27s\n",
      "483:\tlearn: 1.0681045\ttotal: 12m 35s\tremaining: 13m 25s\n",
      "484:\tlearn: 1.0677791\ttotal: 12m 37s\tremaining: 13m 24s\n",
      "485:\tlearn: 1.0674064\ttotal: 12m 39s\tremaining: 13m 22s\n",
      "486:\tlearn: 1.0671564\ttotal: 12m 41s\tremaining: 13m 21s\n",
      "487:\tlearn: 1.0669329\ttotal: 12m 42s\tremaining: 13m 20s\n",
      "488:\tlearn: 1.0667828\ttotal: 12m 44s\tremaining: 13m 18s\n",
      "489:\tlearn: 1.0663573\ttotal: 12m 45s\tremaining: 13m 16s\n",
      "490:\tlearn: 1.0661562\ttotal: 12m 47s\tremaining: 13m 15s\n",
      "491:\tlearn: 1.0658899\ttotal: 12m 48s\tremaining: 13m 13s\n",
      "492:\tlearn: 1.0657407\ttotal: 12m 50s\tremaining: 13m 12s\n",
      "493:\tlearn: 1.0654905\ttotal: 12m 51s\tremaining: 13m 10s\n",
      "494:\tlearn: 1.0653657\ttotal: 12m 53s\tremaining: 13m 8s\n",
      "495:\tlearn: 1.0651811\ttotal: 12m 54s\tremaining: 13m 7s\n",
      "496:\tlearn: 1.0648556\ttotal: 12m 56s\tremaining: 13m 5s\n",
      "497:\tlearn: 1.0646587\ttotal: 12m 57s\tremaining: 13m 4s\n",
      "498:\tlearn: 1.0643208\ttotal: 12m 59s\tremaining: 13m 2s\n",
      "499:\tlearn: 1.0640225\ttotal: 13m\tremaining: 13m\n",
      "500:\tlearn: 1.0638021\ttotal: 13m 2s\tremaining: 12m 59s\n",
      "501:\tlearn: 1.0634861\ttotal: 13m 3s\tremaining: 12m 57s\n",
      "502:\tlearn: 1.0631383\ttotal: 13m 5s\tremaining: 12m 55s\n",
      "503:\tlearn: 1.0629172\ttotal: 13m 6s\tremaining: 12m 54s\n",
      "504:\tlearn: 1.0625793\ttotal: 13m 8s\tremaining: 12m 52s\n",
      "505:\tlearn: 1.0622586\ttotal: 13m 9s\tremaining: 12m 51s\n",
      "506:\tlearn: 1.0618781\ttotal: 13m 11s\tremaining: 12m 49s\n",
      "507:\tlearn: 1.0617001\ttotal: 13m 13s\tremaining: 12m 48s\n",
      "508:\tlearn: 1.0615091\ttotal: 13m 14s\tremaining: 12m 46s\n",
      "509:\tlearn: 1.0611978\ttotal: 13m 15s\tremaining: 12m 44s\n",
      "510:\tlearn: 1.0610502\ttotal: 13m 17s\tremaining: 12m 43s\n",
      "511:\tlearn: 1.0607782\ttotal: 13m 18s\tremaining: 12m 41s\n",
      "512:\tlearn: 1.0606015\ttotal: 13m 20s\tremaining: 12m 39s\n",
      "513:\tlearn: 1.0603519\ttotal: 13m 21s\tremaining: 12m 38s\n",
      "514:\tlearn: 1.0601511\ttotal: 13m 23s\tremaining: 12m 36s\n",
      "515:\tlearn: 1.0598724\ttotal: 13m 24s\tremaining: 12m 34s\n",
      "516:\tlearn: 1.0595699\ttotal: 13m 26s\tremaining: 12m 33s\n",
      "517:\tlearn: 1.0593315\ttotal: 13m 27s\tremaining: 12m 31s\n",
      "518:\tlearn: 1.0591376\ttotal: 13m 29s\tremaining: 12m 30s\n",
      "519:\tlearn: 1.0589376\ttotal: 13m 30s\tremaining: 12m 28s\n",
      "520:\tlearn: 1.0587682\ttotal: 13m 32s\tremaining: 12m 26s\n",
      "521:\tlearn: 1.0584088\ttotal: 13m 33s\tremaining: 12m 25s\n",
      "522:\tlearn: 1.0582375\ttotal: 13m 35s\tremaining: 12m 23s\n",
      "523:\tlearn: 1.0580749\ttotal: 13m 36s\tremaining: 12m 22s\n",
      "524:\tlearn: 1.0577837\ttotal: 13m 38s\tremaining: 12m 20s\n",
      "525:\tlearn: 1.0576268\ttotal: 13m 39s\tremaining: 12m 18s\n",
      "526:\tlearn: 1.0573212\ttotal: 13m 41s\tremaining: 12m 17s\n",
      "527:\tlearn: 1.0570933\ttotal: 13m 42s\tremaining: 12m 15s\n",
      "528:\tlearn: 1.0569627\ttotal: 13m 44s\tremaining: 12m 14s\n",
      "529:\tlearn: 1.0565586\ttotal: 13m 46s\tremaining: 12m 12s\n",
      "530:\tlearn: 1.0561162\ttotal: 13m 47s\tremaining: 12m 11s\n",
      "531:\tlearn: 1.0559668\ttotal: 13m 49s\tremaining: 12m 9s\n",
      "532:\tlearn: 1.0557092\ttotal: 13m 50s\tremaining: 12m 7s\n",
      "533:\tlearn: 1.0554765\ttotal: 13m 52s\tremaining: 12m 6s\n",
      "534:\tlearn: 1.0552316\ttotal: 13m 53s\tremaining: 12m 4s\n",
      "535:\tlearn: 1.0551499\ttotal: 13m 55s\tremaining: 12m 2s\n",
      "536:\tlearn: 1.0549404\ttotal: 13m 56s\tremaining: 12m 1s\n",
      "537:\tlearn: 1.0546854\ttotal: 13m 57s\tremaining: 11m 59s\n",
      "538:\tlearn: 1.0544419\ttotal: 13m 59s\tremaining: 11m 58s\n",
      "539:\tlearn: 1.0542505\ttotal: 14m 1s\tremaining: 11m 56s\n",
      "540:\tlearn: 1.0539769\ttotal: 14m 2s\tremaining: 11m 55s\n",
      "541:\tlearn: 1.0537025\ttotal: 14m 4s\tremaining: 11m 53s\n",
      "542:\tlearn: 1.0534491\ttotal: 14m 5s\tremaining: 11m 51s\n",
      "543:\tlearn: 1.0532854\ttotal: 14m 7s\tremaining: 11m 50s\n",
      "544:\tlearn: 1.0530963\ttotal: 14m 8s\tremaining: 11m 48s\n",
      "545:\tlearn: 1.0529361\ttotal: 14m 10s\tremaining: 11m 47s\n",
      "546:\tlearn: 1.0526620\ttotal: 14m 11s\tremaining: 11m 45s\n",
      "547:\tlearn: 1.0524629\ttotal: 14m 13s\tremaining: 11m 43s\n",
      "548:\tlearn: 1.0522262\ttotal: 14m 14s\tremaining: 11m 42s\n",
      "549:\tlearn: 1.0520678\ttotal: 14m 16s\tremaining: 11m 40s\n",
      "550:\tlearn: 1.0518042\ttotal: 14m 17s\tremaining: 11m 39s\n",
      "551:\tlearn: 1.0514790\ttotal: 14m 19s\tremaining: 11m 37s\n",
      "552:\tlearn: 1.0513054\ttotal: 14m 20s\tremaining: 11m 35s\n",
      "553:\tlearn: 1.0509487\ttotal: 14m 22s\tremaining: 11m 34s\n",
      "554:\tlearn: 1.0507941\ttotal: 14m 23s\tremaining: 11m 32s\n",
      "555:\tlearn: 1.0505449\ttotal: 14m 25s\tremaining: 11m 31s\n",
      "556:\tlearn: 1.0503742\ttotal: 14m 26s\tremaining: 11m 29s\n",
      "557:\tlearn: 1.0501851\ttotal: 14m 28s\tremaining: 11m 27s\n",
      "558:\tlearn: 1.0500071\ttotal: 14m 30s\tremaining: 11m 26s\n",
      "559:\tlearn: 1.0497807\ttotal: 14m 31s\tremaining: 11m 24s\n",
      "560:\tlearn: 1.0496114\ttotal: 14m 33s\tremaining: 11m 23s\n",
      "561:\tlearn: 1.0494159\ttotal: 14m 34s\tremaining: 11m 21s\n",
      "562:\tlearn: 1.0491650\ttotal: 14m 36s\tremaining: 11m 20s\n",
      "563:\tlearn: 1.0490437\ttotal: 14m 37s\tremaining: 11m 18s\n",
      "564:\tlearn: 1.0487539\ttotal: 14m 39s\tremaining: 11m 16s\n",
      "565:\tlearn: 1.0485991\ttotal: 14m 40s\tremaining: 11m 15s\n",
      "566:\tlearn: 1.0484498\ttotal: 14m 42s\tremaining: 11m 13s\n",
      "567:\tlearn: 1.0483184\ttotal: 14m 43s\tremaining: 11m 11s\n",
      "568:\tlearn: 1.0481487\ttotal: 14m 44s\tremaining: 11m 10s\n",
      "569:\tlearn: 1.0479112\ttotal: 14m 46s\tremaining: 11m 8s\n",
      "570:\tlearn: 1.0477529\ttotal: 14m 48s\tremaining: 11m 7s\n",
      "571:\tlearn: 1.0475868\ttotal: 14m 49s\tremaining: 11m 5s\n",
      "572:\tlearn: 1.0473851\ttotal: 14m 51s\tremaining: 11m 4s\n",
      "573:\tlearn: 1.0472409\ttotal: 14m 52s\tremaining: 11m 2s\n",
      "574:\tlearn: 1.0469470\ttotal: 14m 54s\tremaining: 11m\n",
      "575:\tlearn: 1.0468479\ttotal: 14m 55s\tremaining: 10m 59s\n",
      "576:\tlearn: 1.0466586\ttotal: 14m 56s\tremaining: 10m 57s\n",
      "577:\tlearn: 1.0463776\ttotal: 14m 58s\tremaining: 10m 55s\n",
      "578:\tlearn: 1.0463215\ttotal: 14m 59s\tremaining: 10m 54s\n",
      "579:\tlearn: 1.0461290\ttotal: 15m 1s\tremaining: 10m 52s\n",
      "580:\tlearn: 1.0458624\ttotal: 15m 2s\tremaining: 10m 51s\n",
      "581:\tlearn: 1.0456557\ttotal: 15m 4s\tremaining: 10m 49s\n",
      "582:\tlearn: 1.0455656\ttotal: 15m 6s\tremaining: 10m 48s\n",
      "583:\tlearn: 1.0454341\ttotal: 15m 7s\tremaining: 10m 46s\n",
      "584:\tlearn: 1.0453380\ttotal: 15m 9s\tremaining: 10m 44s\n",
      "585:\tlearn: 1.0451082\ttotal: 15m 10s\tremaining: 10m 43s\n",
      "586:\tlearn: 1.0449976\ttotal: 15m 12s\tremaining: 10m 41s\n",
      "587:\tlearn: 1.0447306\ttotal: 15m 13s\tremaining: 10m 40s\n",
      "588:\tlearn: 1.0443807\ttotal: 15m 14s\tremaining: 10m 38s\n",
      "589:\tlearn: 1.0441587\ttotal: 15m 16s\tremaining: 10m 36s\n",
      "590:\tlearn: 1.0439881\ttotal: 15m 17s\tremaining: 10m 35s\n",
      "591:\tlearn: 1.0437629\ttotal: 15m 19s\tremaining: 10m 33s\n",
      "592:\tlearn: 1.0434937\ttotal: 15m 21s\tremaining: 10m 32s\n",
      "593:\tlearn: 1.0432659\ttotal: 15m 22s\tremaining: 10m 30s\n",
      "594:\tlearn: 1.0430198\ttotal: 15m 24s\tremaining: 10m 28s\n",
      "595:\tlearn: 1.0427121\ttotal: 15m 25s\tremaining: 10m 27s\n",
      "596:\tlearn: 1.0426175\ttotal: 15m 26s\tremaining: 10m 25s\n",
      "597:\tlearn: 1.0424348\ttotal: 15m 28s\tremaining: 10m 24s\n",
      "598:\tlearn: 1.0421130\ttotal: 15m 29s\tremaining: 10m 22s\n",
      "599:\tlearn: 1.0419138\ttotal: 15m 31s\tremaining: 10m 20s\n",
      "600:\tlearn: 1.0418398\ttotal: 15m 32s\tremaining: 10m 19s\n",
      "601:\tlearn: 1.0417464\ttotal: 15m 34s\tremaining: 10m 17s\n",
      "602:\tlearn: 1.0416173\ttotal: 15m 35s\tremaining: 10m 16s\n",
      "603:\tlearn: 1.0414536\ttotal: 15m 37s\tremaining: 10m 14s\n",
      "604:\tlearn: 1.0412778\ttotal: 15m 39s\tremaining: 10m 13s\n",
      "605:\tlearn: 1.0410509\ttotal: 15m 40s\tremaining: 10m 11s\n",
      "606:\tlearn: 1.0409884\ttotal: 15m 42s\tremaining: 10m 9s\n",
      "607:\tlearn: 1.0407759\ttotal: 15m 43s\tremaining: 10m 8s\n",
      "608:\tlearn: 1.0405004\ttotal: 15m 44s\tremaining: 10m 6s\n",
      "609:\tlearn: 1.0402490\ttotal: 15m 46s\tremaining: 10m 5s\n",
      "610:\tlearn: 1.0401133\ttotal: 15m 47s\tremaining: 10m 3s\n",
      "611:\tlearn: 1.0399050\ttotal: 15m 49s\tremaining: 10m 1s\n",
      "612:\tlearn: 1.0397551\ttotal: 15m 50s\tremaining: 10m\n",
      "613:\tlearn: 1.0395011\ttotal: 15m 52s\tremaining: 9m 58s\n",
      "614:\tlearn: 1.0392700\ttotal: 15m 54s\tremaining: 9m 57s\n",
      "615:\tlearn: 1.0391054\ttotal: 15m 55s\tremaining: 9m 55s\n",
      "616:\tlearn: 1.0389119\ttotal: 15m 57s\tremaining: 9m 54s\n",
      "617:\tlearn: 1.0386727\ttotal: 15m 58s\tremaining: 9m 52s\n",
      "618:\tlearn: 1.0384097\ttotal: 16m\tremaining: 9m 51s\n",
      "619:\tlearn: 1.0382599\ttotal: 16m 1s\tremaining: 9m 49s\n",
      "620:\tlearn: 1.0380457\ttotal: 16m 3s\tremaining: 9m 48s\n",
      "621:\tlearn: 1.0379176\ttotal: 16m 4s\tremaining: 9m 46s\n",
      "622:\tlearn: 1.0375822\ttotal: 16m 6s\tremaining: 9m 44s\n",
      "623:\tlearn: 1.0374855\ttotal: 16m 8s\tremaining: 9m 43s\n",
      "624:\tlearn: 1.0373421\ttotal: 16m 10s\tremaining: 9m 42s\n",
      "625:\tlearn: 1.0372111\ttotal: 16m 11s\tremaining: 9m 40s\n",
      "626:\tlearn: 1.0370562\ttotal: 16m 13s\tremaining: 9m 39s\n",
      "627:\tlearn: 1.0368496\ttotal: 16m 14s\tremaining: 9m 37s\n",
      "628:\tlearn: 1.0366644\ttotal: 16m 16s\tremaining: 9m 35s\n",
      "629:\tlearn: 1.0365026\ttotal: 16m 18s\tremaining: 9m 34s\n",
      "630:\tlearn: 1.0363892\ttotal: 16m 19s\tremaining: 9m 33s\n",
      "631:\tlearn: 1.0362748\ttotal: 16m 21s\tremaining: 9m 31s\n",
      "632:\tlearn: 1.0361171\ttotal: 16m 23s\tremaining: 9m 29s\n",
      "633:\tlearn: 1.0359915\ttotal: 16m 24s\tremaining: 9m 28s\n",
      "634:\tlearn: 1.0358445\ttotal: 16m 26s\tremaining: 9m 27s\n",
      "635:\tlearn: 1.0356467\ttotal: 16m 27s\tremaining: 9m 25s\n",
      "636:\tlearn: 1.0354140\ttotal: 16m 29s\tremaining: 9m 23s\n",
      "637:\tlearn: 1.0352647\ttotal: 16m 31s\tremaining: 9m 22s\n",
      "638:\tlearn: 1.0349831\ttotal: 16m 32s\tremaining: 9m 20s\n",
      "639:\tlearn: 1.0347665\ttotal: 16m 34s\tremaining: 9m 19s\n",
      "640:\tlearn: 1.0344371\ttotal: 16m 35s\tremaining: 9m 17s\n",
      "641:\tlearn: 1.0342647\ttotal: 16m 37s\tremaining: 9m 16s\n",
      "642:\tlearn: 1.0339949\ttotal: 16m 38s\tremaining: 9m 14s\n",
      "643:\tlearn: 1.0338880\ttotal: 16m 40s\tremaining: 9m 12s\n",
      "644:\tlearn: 1.0337317\ttotal: 16m 41s\tremaining: 9m 11s\n",
      "645:\tlearn: 1.0336350\ttotal: 16m 43s\tremaining: 9m 9s\n",
      "646:\tlearn: 1.0334824\ttotal: 16m 44s\tremaining: 9m 8s\n",
      "647:\tlearn: 1.0332615\ttotal: 16m 46s\tremaining: 9m 6s\n",
      "648:\tlearn: 1.0331132\ttotal: 16m 47s\tremaining: 9m 4s\n",
      "649:\tlearn: 1.0329708\ttotal: 16m 49s\tremaining: 9m 3s\n",
      "650:\tlearn: 1.0328362\ttotal: 16m 50s\tremaining: 9m 1s\n",
      "651:\tlearn: 1.0326990\ttotal: 16m 51s\tremaining: 9m\n",
      "652:\tlearn: 1.0324807\ttotal: 16m 53s\tremaining: 8m 58s\n",
      "653:\tlearn: 1.0323790\ttotal: 16m 54s\tremaining: 8m 56s\n",
      "654:\tlearn: 1.0322609\ttotal: 16m 56s\tremaining: 8m 55s\n",
      "655:\tlearn: 1.0321870\ttotal: 16m 58s\tremaining: 8m 53s\n",
      "656:\tlearn: 1.0320894\ttotal: 16m 59s\tremaining: 8m 52s\n",
      "657:\tlearn: 1.0318801\ttotal: 17m\tremaining: 8m 50s\n",
      "658:\tlearn: 1.0316576\ttotal: 17m 2s\tremaining: 8m 49s\n",
      "659:\tlearn: 1.0315573\ttotal: 17m 3s\tremaining: 8m 47s\n",
      "660:\tlearn: 1.0313245\ttotal: 17m 5s\tremaining: 8m 45s\n",
      "661:\tlearn: 1.0312041\ttotal: 17m 6s\tremaining: 8m 44s\n",
      "662:\tlearn: 1.0310111\ttotal: 17m 8s\tremaining: 8m 42s\n",
      "663:\tlearn: 1.0308576\ttotal: 17m 9s\tremaining: 8m 41s\n",
      "664:\tlearn: 1.0307403\ttotal: 17m 11s\tremaining: 8m 39s\n",
      "665:\tlearn: 1.0305742\ttotal: 17m 13s\tremaining: 8m 38s\n",
      "666:\tlearn: 1.0303622\ttotal: 17m 14s\tremaining: 8m 36s\n",
      "667:\tlearn: 1.0301631\ttotal: 17m 16s\tremaining: 8m 34s\n",
      "668:\tlearn: 1.0298937\ttotal: 17m 17s\tremaining: 8m 33s\n",
      "669:\tlearn: 1.0297771\ttotal: 17m 19s\tremaining: 8m 31s\n",
      "670:\tlearn: 1.0294927\ttotal: 17m 20s\tremaining: 8m 30s\n",
      "671:\tlearn: 1.0293311\ttotal: 17m 22s\tremaining: 8m 28s\n",
      "672:\tlearn: 1.0291576\ttotal: 17m 23s\tremaining: 8m 27s\n",
      "673:\tlearn: 1.0289520\ttotal: 17m 25s\tremaining: 8m 25s\n",
      "674:\tlearn: 1.0286499\ttotal: 17m 26s\tremaining: 8m 23s\n",
      "675:\tlearn: 1.0285499\ttotal: 17m 28s\tremaining: 8m 22s\n",
      "676:\tlearn: 1.0283669\ttotal: 17m 29s\tremaining: 8m 20s\n",
      "677:\tlearn: 1.0282025\ttotal: 17m 31s\tremaining: 8m 19s\n",
      "678:\tlearn: 1.0281122\ttotal: 17m 32s\tremaining: 8m 17s\n",
      "679:\tlearn: 1.0278951\ttotal: 17m 34s\tremaining: 8m 16s\n",
      "680:\tlearn: 1.0277852\ttotal: 17m 35s\tremaining: 8m 14s\n",
      "681:\tlearn: 1.0276076\ttotal: 17m 37s\tremaining: 8m 12s\n",
      "682:\tlearn: 1.0273934\ttotal: 17m 38s\tremaining: 8m 11s\n",
      "683:\tlearn: 1.0272667\ttotal: 17m 39s\tremaining: 8m 9s\n",
      "684:\tlearn: 1.0271763\ttotal: 17m 41s\tremaining: 8m 8s\n",
      "685:\tlearn: 1.0267362\ttotal: 17m 42s\tremaining: 8m 6s\n",
      "686:\tlearn: 1.0264471\ttotal: 17m 44s\tremaining: 8m 5s\n",
      "687:\tlearn: 1.0263404\ttotal: 17m 46s\tremaining: 8m 3s\n",
      "688:\tlearn: 1.0260483\ttotal: 17m 47s\tremaining: 8m 2s\n",
      "689:\tlearn: 1.0258846\ttotal: 17m 49s\tremaining: 8m\n",
      "690:\tlearn: 1.0257879\ttotal: 17m 50s\tremaining: 7m 58s\n",
      "691:\tlearn: 1.0256258\ttotal: 17m 52s\tremaining: 7m 57s\n",
      "692:\tlearn: 1.0255332\ttotal: 17m 53s\tremaining: 7m 55s\n",
      "693:\tlearn: 1.0254344\ttotal: 17m 55s\tremaining: 7m 54s\n",
      "694:\tlearn: 1.0251874\ttotal: 17m 56s\tremaining: 7m 52s\n",
      "695:\tlearn: 1.0249996\ttotal: 17m 58s\tremaining: 7m 50s\n",
      "696:\tlearn: 1.0247829\ttotal: 17m 59s\tremaining: 7m 49s\n",
      "697:\tlearn: 1.0246083\ttotal: 18m 1s\tremaining: 7m 47s\n",
      "698:\tlearn: 1.0244231\ttotal: 18m 2s\tremaining: 7m 46s\n",
      "699:\tlearn: 1.0243060\ttotal: 18m 4s\tremaining: 7m 44s\n",
      "700:\tlearn: 1.0241344\ttotal: 18m 5s\tremaining: 7m 43s\n",
      "701:\tlearn: 1.0240086\ttotal: 18m 7s\tremaining: 7m 41s\n",
      "702:\tlearn: 1.0237350\ttotal: 18m 8s\tremaining: 7m 39s\n",
      "703:\tlearn: 1.0236580\ttotal: 18m 10s\tremaining: 7m 38s\n",
      "704:\tlearn: 1.0234549\ttotal: 18m 11s\tremaining: 7m 36s\n",
      "705:\tlearn: 1.0232498\ttotal: 18m 13s\tremaining: 7m 35s\n",
      "706:\tlearn: 1.0230481\ttotal: 18m 14s\tremaining: 7m 33s\n",
      "707:\tlearn: 1.0229983\ttotal: 18m 16s\tremaining: 7m 32s\n",
      "708:\tlearn: 1.0228702\ttotal: 18m 17s\tremaining: 7m 30s\n",
      "709:\tlearn: 1.0226336\ttotal: 18m 19s\tremaining: 7m 28s\n",
      "710:\tlearn: 1.0225187\ttotal: 18m 20s\tremaining: 7m 27s\n",
      "711:\tlearn: 1.0223906\ttotal: 18m 22s\tremaining: 7m 25s\n",
      "712:\tlearn: 1.0221396\ttotal: 18m 23s\tremaining: 7m 24s\n",
      "713:\tlearn: 1.0220014\ttotal: 18m 25s\tremaining: 7m 22s\n",
      "714:\tlearn: 1.0218778\ttotal: 18m 26s\tremaining: 7m 21s\n",
      "715:\tlearn: 1.0217746\ttotal: 18m 27s\tremaining: 7m 19s\n",
      "716:\tlearn: 1.0215665\ttotal: 18m 29s\tremaining: 7m 17s\n",
      "717:\tlearn: 1.0214476\ttotal: 18m 30s\tremaining: 7m 16s\n",
      "718:\tlearn: 1.0211625\ttotal: 18m 32s\tremaining: 7m 14s\n",
      "719:\tlearn: 1.0210291\ttotal: 18m 34s\tremaining: 7m 13s\n",
      "720:\tlearn: 1.0209144\ttotal: 18m 35s\tremaining: 7m 11s\n",
      "721:\tlearn: 1.0207917\ttotal: 18m 36s\tremaining: 7m 10s\n",
      "722:\tlearn: 1.0206711\ttotal: 18m 38s\tremaining: 7m 8s\n",
      "723:\tlearn: 1.0204954\ttotal: 18m 39s\tremaining: 7m 6s\n",
      "724:\tlearn: 1.0203536\ttotal: 18m 41s\tremaining: 7m 5s\n",
      "725:\tlearn: 1.0201143\ttotal: 18m 42s\tremaining: 7m 3s\n",
      "726:\tlearn: 1.0200281\ttotal: 18m 44s\tremaining: 7m 2s\n",
      "727:\tlearn: 1.0198147\ttotal: 18m 45s\tremaining: 7m\n",
      "728:\tlearn: 1.0195967\ttotal: 18m 47s\tremaining: 6m 59s\n",
      "729:\tlearn: 1.0194602\ttotal: 18m 48s\tremaining: 6m 57s\n",
      "730:\tlearn: 1.0193110\ttotal: 18m 50s\tremaining: 6m 55s\n",
      "731:\tlearn: 1.0191289\ttotal: 18m 51s\tremaining: 6m 54s\n",
      "732:\tlearn: 1.0189651\ttotal: 18m 53s\tremaining: 6m 52s\n",
      "733:\tlearn: 1.0186894\ttotal: 18m 55s\tremaining: 6m 51s\n",
      "734:\tlearn: 1.0185021\ttotal: 18m 56s\tremaining: 6m 49s\n",
      "735:\tlearn: 1.0183237\ttotal: 18m 57s\tremaining: 6m 48s\n",
      "736:\tlearn: 1.0182229\ttotal: 18m 59s\tremaining: 6m 46s\n",
      "737:\tlearn: 1.0180753\ttotal: 19m\tremaining: 6m 45s\n",
      "738:\tlearn: 1.0178347\ttotal: 19m 2s\tremaining: 6m 43s\n",
      "739:\tlearn: 1.0176740\ttotal: 19m 4s\tremaining: 6m 41s\n",
      "740:\tlearn: 1.0176107\ttotal: 19m 5s\tremaining: 6m 40s\n",
      "741:\tlearn: 1.0175225\ttotal: 19m 7s\tremaining: 6m 38s\n",
      "742:\tlearn: 1.0173498\ttotal: 19m 8s\tremaining: 6m 37s\n",
      "743:\tlearn: 1.0172899\ttotal: 19m 9s\tremaining: 6m 35s\n",
      "744:\tlearn: 1.0169325\ttotal: 19m 11s\tremaining: 6m 34s\n",
      "745:\tlearn: 1.0166821\ttotal: 19m 12s\tremaining: 6m 32s\n",
      "746:\tlearn: 1.0165031\ttotal: 19m 14s\tremaining: 6m 30s\n",
      "747:\tlearn: 1.0162591\ttotal: 19m 15s\tremaining: 6m 29s\n",
      "748:\tlearn: 1.0161845\ttotal: 19m 17s\tremaining: 6m 27s\n",
      "749:\tlearn: 1.0159652\ttotal: 19m 18s\tremaining: 6m 26s\n",
      "750:\tlearn: 1.0157352\ttotal: 19m 20s\tremaining: 6m 24s\n",
      "751:\tlearn: 1.0156171\ttotal: 19m 21s\tremaining: 6m 23s\n",
      "752:\tlearn: 1.0155555\ttotal: 19m 23s\tremaining: 6m 21s\n",
      "753:\tlearn: 1.0152428\ttotal: 19m 24s\tremaining: 6m 20s\n",
      "754:\tlearn: 1.0150562\ttotal: 19m 26s\tremaining: 6m 18s\n",
      "755:\tlearn: 1.0148645\ttotal: 19m 27s\tremaining: 6m 16s\n",
      "756:\tlearn: 1.0146340\ttotal: 19m 29s\tremaining: 6m 15s\n",
      "757:\tlearn: 1.0145234\ttotal: 19m 30s\tremaining: 6m 13s\n",
      "758:\tlearn: 1.0143281\ttotal: 19m 32s\tremaining: 6m 12s\n",
      "759:\tlearn: 1.0142332\ttotal: 19m 33s\tremaining: 6m 10s\n",
      "760:\tlearn: 1.0141315\ttotal: 19m 35s\tremaining: 6m 9s\n",
      "761:\tlearn: 1.0140417\ttotal: 19m 36s\tremaining: 6m 7s\n",
      "762:\tlearn: 1.0138081\ttotal: 19m 38s\tremaining: 6m 5s\n",
      "763:\tlearn: 1.0137591\ttotal: 19m 39s\tremaining: 6m 4s\n",
      "764:\tlearn: 1.0135179\ttotal: 19m 41s\tremaining: 6m 2s\n",
      "765:\tlearn: 1.0131883\ttotal: 19m 42s\tremaining: 6m 1s\n",
      "766:\tlearn: 1.0130304\ttotal: 19m 44s\tremaining: 5m 59s\n",
      "767:\tlearn: 1.0128240\ttotal: 19m 45s\tremaining: 5m 58s\n",
      "768:\tlearn: 1.0126798\ttotal: 19m 47s\tremaining: 5m 56s\n",
      "769:\tlearn: 1.0124910\ttotal: 19m 48s\tremaining: 5m 55s\n",
      "770:\tlearn: 1.0123151\ttotal: 19m 49s\tremaining: 5m 53s\n",
      "771:\tlearn: 1.0121307\ttotal: 19m 51s\tremaining: 5m 51s\n",
      "772:\tlearn: 1.0120510\ttotal: 19m 53s\tremaining: 5m 50s\n",
      "773:\tlearn: 1.0119587\ttotal: 19m 54s\tremaining: 5m 48s\n",
      "774:\tlearn: 1.0118262\ttotal: 19m 56s\tremaining: 5m 47s\n",
      "775:\tlearn: 1.0115514\ttotal: 19m 57s\tremaining: 5m 45s\n",
      "776:\tlearn: 1.0114702\ttotal: 19m 59s\tremaining: 5m 44s\n",
      "777:\tlearn: 1.0114106\ttotal: 20m\tremaining: 5m 42s\n",
      "778:\tlearn: 1.0113490\ttotal: 20m 2s\tremaining: 5m 41s\n",
      "779:\tlearn: 1.0112449\ttotal: 20m 3s\tremaining: 5m 39s\n",
      "780:\tlearn: 1.0111550\ttotal: 20m 5s\tremaining: 5m 38s\n",
      "781:\tlearn: 1.0111015\ttotal: 20m 6s\tremaining: 5m 36s\n",
      "782:\tlearn: 1.0108653\ttotal: 20m 8s\tremaining: 5m 34s\n",
      "783:\tlearn: 1.0107380\ttotal: 20m 10s\tremaining: 5m 33s\n",
      "784:\tlearn: 1.0106831\ttotal: 20m 11s\tremaining: 5m 31s\n",
      "785:\tlearn: 1.0105817\ttotal: 20m 12s\tremaining: 5m 30s\n",
      "786:\tlearn: 1.0105237\ttotal: 20m 14s\tremaining: 5m 28s\n",
      "787:\tlearn: 1.0104239\ttotal: 20m 15s\tremaining: 5m 27s\n",
      "788:\tlearn: 1.0102545\ttotal: 20m 17s\tremaining: 5m 25s\n",
      "789:\tlearn: 1.0101131\ttotal: 20m 18s\tremaining: 5m 23s\n",
      "790:\tlearn: 1.0100245\ttotal: 20m 20s\tremaining: 5m 22s\n",
      "791:\tlearn: 1.0099033\ttotal: 20m 21s\tremaining: 5m 20s\n",
      "792:\tlearn: 1.0096749\ttotal: 20m 23s\tremaining: 5m 19s\n",
      "793:\tlearn: 1.0095710\ttotal: 20m 24s\tremaining: 5m 17s\n",
      "794:\tlearn: 1.0094979\ttotal: 20m 26s\tremaining: 5m 16s\n",
      "795:\tlearn: 1.0093405\ttotal: 20m 27s\tremaining: 5m 14s\n",
      "796:\tlearn: 1.0090799\ttotal: 20m 29s\tremaining: 5m 13s\n",
      "797:\tlearn: 1.0089621\ttotal: 20m 30s\tremaining: 5m 11s\n",
      "798:\tlearn: 1.0088321\ttotal: 20m 32s\tremaining: 5m 9s\n",
      "799:\tlearn: 1.0087149\ttotal: 20m 33s\tremaining: 5m 8s\n",
      "800:\tlearn: 1.0085041\ttotal: 20m 35s\tremaining: 5m 6s\n",
      "801:\tlearn: 1.0083763\ttotal: 20m 36s\tremaining: 5m 5s\n",
      "802:\tlearn: 1.0082838\ttotal: 20m 37s\tremaining: 5m 3s\n",
      "803:\tlearn: 1.0081758\ttotal: 20m 39s\tremaining: 5m 2s\n",
      "804:\tlearn: 1.0080853\ttotal: 20m 41s\tremaining: 5m\n",
      "805:\tlearn: 1.0079177\ttotal: 20m 42s\tremaining: 4m 59s\n",
      "806:\tlearn: 1.0077392\ttotal: 20m 43s\tremaining: 4m 57s\n",
      "807:\tlearn: 1.0074375\ttotal: 20m 45s\tremaining: 4m 55s\n",
      "808:\tlearn: 1.0072510\ttotal: 20m 46s\tremaining: 4m 54s\n",
      "809:\tlearn: 1.0071481\ttotal: 20m 48s\tremaining: 4m 52s\n",
      "810:\tlearn: 1.0070147\ttotal: 20m 49s\tremaining: 4m 51s\n",
      "811:\tlearn: 1.0067677\ttotal: 20m 51s\tremaining: 4m 49s\n",
      "812:\tlearn: 1.0065626\ttotal: 20m 52s\tremaining: 4m 48s\n",
      "813:\tlearn: 1.0064109\ttotal: 20m 54s\tremaining: 4m 46s\n",
      "814:\tlearn: 1.0063265\ttotal: 20m 55s\tremaining: 4m 45s\n",
      "815:\tlearn: 1.0061856\ttotal: 20m 57s\tremaining: 4m 43s\n",
      "816:\tlearn: 1.0060359\ttotal: 20m 58s\tremaining: 4m 41s\n",
      "817:\tlearn: 1.0059161\ttotal: 21m\tremaining: 4m 40s\n",
      "818:\tlearn: 1.0058656\ttotal: 21m 1s\tremaining: 4m 38s\n",
      "819:\tlearn: 1.0057455\ttotal: 21m 3s\tremaining: 4m 37s\n",
      "820:\tlearn: 1.0056247\ttotal: 21m 4s\tremaining: 4m 35s\n",
      "821:\tlearn: 1.0054812\ttotal: 21m 6s\tremaining: 4m 34s\n",
      "822:\tlearn: 1.0053115\ttotal: 21m 7s\tremaining: 4m 32s\n",
      "823:\tlearn: 1.0052223\ttotal: 21m 9s\tremaining: 4m 31s\n",
      "824:\tlearn: 1.0050299\ttotal: 21m 10s\tremaining: 4m 29s\n",
      "825:\tlearn: 1.0049635\ttotal: 21m 12s\tremaining: 4m 27s\n",
      "826:\tlearn: 1.0048318\ttotal: 21m 13s\tremaining: 4m 26s\n",
      "827:\tlearn: 1.0047745\ttotal: 21m 15s\tremaining: 4m 24s\n",
      "828:\tlearn: 1.0046026\ttotal: 21m 16s\tremaining: 4m 23s\n",
      "829:\tlearn: 1.0043786\ttotal: 21m 18s\tremaining: 4m 21s\n",
      "830:\tlearn: 1.0042356\ttotal: 21m 19s\tremaining: 4m 20s\n",
      "831:\tlearn: 1.0041506\ttotal: 21m 21s\tremaining: 4m 18s\n",
      "832:\tlearn: 1.0040134\ttotal: 21m 22s\tremaining: 4m 17s\n",
      "833:\tlearn: 1.0038019\ttotal: 21m 24s\tremaining: 4m 15s\n",
      "834:\tlearn: 1.0037157\ttotal: 21m 25s\tremaining: 4m 14s\n",
      "835:\tlearn: 1.0036224\ttotal: 21m 26s\tremaining: 4m 12s\n",
      "836:\tlearn: 1.0034682\ttotal: 21m 28s\tremaining: 4m 10s\n",
      "837:\tlearn: 1.0033154\ttotal: 21m 30s\tremaining: 4m 9s\n",
      "838:\tlearn: 1.0031436\ttotal: 21m 31s\tremaining: 4m 7s\n",
      "839:\tlearn: 1.0029794\ttotal: 21m 32s\tremaining: 4m 6s\n",
      "840:\tlearn: 1.0028138\ttotal: 21m 34s\tremaining: 4m 4s\n",
      "841:\tlearn: 1.0025709\ttotal: 21m 35s\tremaining: 4m 3s\n",
      "842:\tlearn: 1.0024041\ttotal: 21m 37s\tremaining: 4m 1s\n",
      "843:\tlearn: 1.0021548\ttotal: 21m 38s\tremaining: 4m\n",
      "844:\tlearn: 1.0019736\ttotal: 21m 40s\tremaining: 3m 58s\n",
      "845:\tlearn: 1.0018146\ttotal: 21m 41s\tremaining: 3m 56s\n",
      "846:\tlearn: 1.0016983\ttotal: 21m 43s\tremaining: 3m 55s\n",
      "847:\tlearn: 1.0015818\ttotal: 21m 44s\tremaining: 3m 53s\n",
      "848:\tlearn: 1.0014897\ttotal: 21m 46s\tremaining: 3m 52s\n",
      "849:\tlearn: 1.0013707\ttotal: 21m 47s\tremaining: 3m 50s\n",
      "850:\tlearn: 1.0012431\ttotal: 21m 49s\tremaining: 3m 49s\n",
      "851:\tlearn: 1.0011386\ttotal: 21m 50s\tremaining: 3m 47s\n",
      "852:\tlearn: 1.0009436\ttotal: 21m 52s\tremaining: 3m 46s\n",
      "853:\tlearn: 1.0008585\ttotal: 21m 53s\tremaining: 3m 44s\n",
      "854:\tlearn: 1.0007390\ttotal: 21m 55s\tremaining: 3m 43s\n",
      "855:\tlearn: 1.0005747\ttotal: 21m 56s\tremaining: 3m 41s\n",
      "856:\tlearn: 1.0004798\ttotal: 21m 58s\tremaining: 3m 39s\n",
      "857:\tlearn: 1.0002494\ttotal: 21m 59s\tremaining: 3m 38s\n",
      "858:\tlearn: 1.0001025\ttotal: 22m 1s\tremaining: 3m 36s\n",
      "859:\tlearn: 1.0000207\ttotal: 22m 3s\tremaining: 3m 35s\n",
      "860:\tlearn: 0.9998475\ttotal: 22m 4s\tremaining: 3m 33s\n",
      "861:\tlearn: 0.9997090\ttotal: 22m 5s\tremaining: 3m 32s\n",
      "862:\tlearn: 0.9996271\ttotal: 22m 7s\tremaining: 3m 30s\n",
      "863:\tlearn: 0.9995057\ttotal: 22m 8s\tremaining: 3m 29s\n",
      "864:\tlearn: 0.9994154\ttotal: 22m 10s\tremaining: 3m 27s\n",
      "865:\tlearn: 0.9992464\ttotal: 22m 11s\tremaining: 3m 26s\n",
      "866:\tlearn: 0.9990080\ttotal: 22m 13s\tremaining: 3m 24s\n",
      "867:\tlearn: 0.9987746\ttotal: 22m 14s\tremaining: 3m 22s\n",
      "868:\tlearn: 0.9986570\ttotal: 22m 16s\tremaining: 3m 21s\n",
      "869:\tlearn: 0.9984178\ttotal: 22m 18s\tremaining: 3m 19s\n",
      "870:\tlearn: 0.9983486\ttotal: 22m 20s\tremaining: 3m 18s\n",
      "871:\tlearn: 0.9981513\ttotal: 22m 22s\tremaining: 3m 17s\n",
      "872:\tlearn: 0.9980778\ttotal: 22m 23s\tremaining: 3m 15s\n",
      "873:\tlearn: 0.9980222\ttotal: 22m 25s\tremaining: 3m 14s\n",
      "874:\tlearn: 0.9979532\ttotal: 22m 27s\tremaining: 3m 12s\n",
      "875:\tlearn: 0.9978118\ttotal: 22m 29s\tremaining: 3m 10s\n",
      "876:\tlearn: 0.9976090\ttotal: 22m 30s\tremaining: 3m 9s\n",
      "877:\tlearn: 0.9975024\ttotal: 22m 32s\tremaining: 3m 7s\n",
      "878:\tlearn: 0.9973600\ttotal: 22m 34s\tremaining: 3m 6s\n",
      "879:\tlearn: 0.9972423\ttotal: 22m 36s\tremaining: 3m 4s\n",
      "880:\tlearn: 0.9971232\ttotal: 22m 37s\tremaining: 3m 3s\n",
      "881:\tlearn: 0.9970653\ttotal: 22m 39s\tremaining: 3m 1s\n",
      "882:\tlearn: 0.9969137\ttotal: 22m 40s\tremaining: 3m\n",
      "883:\tlearn: 0.9966363\ttotal: 22m 42s\tremaining: 2m 58s\n",
      "884:\tlearn: 0.9964877\ttotal: 22m 43s\tremaining: 2m 57s\n",
      "885:\tlearn: 0.9963279\ttotal: 22m 45s\tremaining: 2m 55s\n",
      "886:\tlearn: 0.9962137\ttotal: 22m 46s\tremaining: 2m 54s\n",
      "887:\tlearn: 0.9960279\ttotal: 22m 48s\tremaining: 2m 52s\n",
      "888:\tlearn: 0.9959393\ttotal: 22m 50s\tremaining: 2m 51s\n",
      "889:\tlearn: 0.9958014\ttotal: 22m 51s\tremaining: 2m 49s\n",
      "890:\tlearn: 0.9957042\ttotal: 22m 53s\tremaining: 2m 47s\n",
      "891:\tlearn: 0.9956017\ttotal: 22m 54s\tremaining: 2m 46s\n",
      "892:\tlearn: 0.9955117\ttotal: 22m 55s\tremaining: 2m 44s\n",
      "893:\tlearn: 0.9953808\ttotal: 22m 57s\tremaining: 2m 43s\n",
      "894:\tlearn: 0.9952395\ttotal: 22m 58s\tremaining: 2m 41s\n",
      "895:\tlearn: 0.9950409\ttotal: 23m\tremaining: 2m 40s\n",
      "896:\tlearn: 0.9949569\ttotal: 23m 1s\tremaining: 2m 38s\n",
      "897:\tlearn: 0.9948205\ttotal: 23m 3s\tremaining: 2m 37s\n",
      "898:\tlearn: 0.9945725\ttotal: 23m 5s\tremaining: 2m 35s\n",
      "899:\tlearn: 0.9944353\ttotal: 23m 6s\tremaining: 2m 34s\n",
      "900:\tlearn: 0.9942498\ttotal: 23m 7s\tremaining: 2m 32s\n",
      "901:\tlearn: 0.9940842\ttotal: 23m 9s\tremaining: 2m 30s\n",
      "902:\tlearn: 0.9940226\ttotal: 23m 10s\tremaining: 2m 29s\n",
      "903:\tlearn: 0.9939585\ttotal: 23m 12s\tremaining: 2m 27s\n",
      "904:\tlearn: 0.9937948\ttotal: 23m 13s\tremaining: 2m 26s\n",
      "905:\tlearn: 0.9936749\ttotal: 23m 15s\tremaining: 2m 24s\n",
      "906:\tlearn: 0.9935152\ttotal: 23m 16s\tremaining: 2m 23s\n",
      "907:\tlearn: 0.9934487\ttotal: 23m 18s\tremaining: 2m 21s\n",
      "908:\tlearn: 0.9932976\ttotal: 23m 19s\tremaining: 2m 20s\n",
      "909:\tlearn: 0.9930267\ttotal: 23m 21s\tremaining: 2m 18s\n",
      "910:\tlearn: 0.9928748\ttotal: 23m 23s\tremaining: 2m 17s\n",
      "911:\tlearn: 0.9926439\ttotal: 23m 24s\tremaining: 2m 15s\n",
      "912:\tlearn: 0.9925063\ttotal: 23m 26s\tremaining: 2m 13s\n",
      "913:\tlearn: 0.9924727\ttotal: 23m 27s\tremaining: 2m 12s\n",
      "914:\tlearn: 0.9923868\ttotal: 23m 29s\tremaining: 2m 10s\n",
      "915:\tlearn: 0.9922768\ttotal: 23m 30s\tremaining: 2m 9s\n",
      "916:\tlearn: 0.9922060\ttotal: 23m 32s\tremaining: 2m 7s\n",
      "917:\tlearn: 0.9921176\ttotal: 23m 33s\tremaining: 2m 6s\n",
      "918:\tlearn: 0.9920065\ttotal: 23m 34s\tremaining: 2m 4s\n",
      "919:\tlearn: 0.9918471\ttotal: 23m 36s\tremaining: 2m 3s\n",
      "920:\tlearn: 0.9917638\ttotal: 23m 38s\tremaining: 2m 1s\n",
      "921:\tlearn: 0.9916260\ttotal: 23m 39s\tremaining: 2m\n",
      "922:\tlearn: 0.9915282\ttotal: 23m 41s\tremaining: 1m 58s\n",
      "923:\tlearn: 0.9912481\ttotal: 23m 42s\tremaining: 1m 57s\n",
      "924:\tlearn: 0.9911286\ttotal: 23m 43s\tremaining: 1m 55s\n",
      "925:\tlearn: 0.9909909\ttotal: 23m 45s\tremaining: 1m 53s\n",
      "926:\tlearn: 0.9908622\ttotal: 23m 46s\tremaining: 1m 52s\n",
      "927:\tlearn: 0.9907231\ttotal: 23m 48s\tremaining: 1m 50s\n",
      "928:\tlearn: 0.9906160\ttotal: 23m 49s\tremaining: 1m 49s\n",
      "929:\tlearn: 0.9904974\ttotal: 23m 51s\tremaining: 1m 47s\n",
      "930:\tlearn: 0.9904474\ttotal: 23m 53s\tremaining: 1m 46s\n",
      "931:\tlearn: 0.9903241\ttotal: 23m 54s\tremaining: 1m 44s\n",
      "932:\tlearn: 0.9902102\ttotal: 23m 56s\tremaining: 1m 43s\n",
      "933:\tlearn: 0.9900475\ttotal: 23m 57s\tremaining: 1m 41s\n",
      "934:\tlearn: 0.9900147\ttotal: 23m 59s\tremaining: 1m 40s\n",
      "935:\tlearn: 0.9899044\ttotal: 24m\tremaining: 1m 38s\n",
      "936:\tlearn: 0.9897611\ttotal: 24m 2s\tremaining: 1m 36s\n",
      "937:\tlearn: 0.9897278\ttotal: 24m 3s\tremaining: 1m 35s\n",
      "938:\tlearn: 0.9896233\ttotal: 24m 5s\tremaining: 1m 33s\n",
      "939:\tlearn: 0.9895131\ttotal: 24m 6s\tremaining: 1m 32s\n",
      "940:\tlearn: 0.9893930\ttotal: 24m 8s\tremaining: 1m 30s\n",
      "941:\tlearn: 0.9892866\ttotal: 24m 9s\tremaining: 1m 29s\n",
      "942:\tlearn: 0.9891954\ttotal: 24m 11s\tremaining: 1m 27s\n",
      "943:\tlearn: 0.9890071\ttotal: 24m 12s\tremaining: 1m 26s\n",
      "944:\tlearn: 0.9889043\ttotal: 24m 14s\tremaining: 1m 24s\n",
      "945:\tlearn: 0.9887436\ttotal: 24m 15s\tremaining: 1m 23s\n",
      "946:\tlearn: 0.9886718\ttotal: 24m 17s\tremaining: 1m 21s\n",
      "947:\tlearn: 0.9884607\ttotal: 24m 18s\tremaining: 1m 20s\n",
      "948:\tlearn: 0.9883096\ttotal: 24m 19s\tremaining: 1m 18s\n",
      "949:\tlearn: 0.9881776\ttotal: 24m 21s\tremaining: 1m 16s\n",
      "950:\tlearn: 0.9880340\ttotal: 24m 22s\tremaining: 1m 15s\n",
      "951:\tlearn: 0.9879566\ttotal: 24m 24s\tremaining: 1m 13s\n",
      "952:\tlearn: 0.9878397\ttotal: 24m 25s\tremaining: 1m 12s\n",
      "953:\tlearn: 0.9877611\ttotal: 24m 27s\tremaining: 1m 10s\n",
      "954:\tlearn: 0.9875979\ttotal: 24m 28s\tremaining: 1m 9s\n",
      "955:\tlearn: 0.9874935\ttotal: 24m 30s\tremaining: 1m 7s\n",
      "956:\tlearn: 0.9874230\ttotal: 24m 31s\tremaining: 1m 6s\n",
      "957:\tlearn: 0.9872206\ttotal: 24m 33s\tremaining: 1m 4s\n",
      "958:\tlearn: 0.9870932\ttotal: 24m 35s\tremaining: 1m 3s\n",
      "959:\tlearn: 0.9869218\ttotal: 24m 36s\tremaining: 1m 1s\n",
      "960:\tlearn: 0.9867970\ttotal: 24m 38s\tremaining: 60s\n",
      "961:\tlearn: 0.9866808\ttotal: 24m 39s\tremaining: 58.4s\n",
      "962:\tlearn: 0.9865626\ttotal: 24m 41s\tremaining: 56.9s\n",
      "963:\tlearn: 0.9864644\ttotal: 24m 42s\tremaining: 55.4s\n",
      "964:\tlearn: 0.9863922\ttotal: 24m 44s\tremaining: 53.8s\n",
      "965:\tlearn: 0.9862962\ttotal: 24m 45s\tremaining: 52.3s\n",
      "966:\tlearn: 0.9861348\ttotal: 24m 47s\tremaining: 50.7s\n",
      "967:\tlearn: 0.9859350\ttotal: 24m 48s\tremaining: 49.2s\n",
      "968:\tlearn: 0.9858594\ttotal: 24m 49s\tremaining: 47.7s\n",
      "969:\tlearn: 0.9857634\ttotal: 24m 51s\tremaining: 46.1s\n",
      "970:\tlearn: 0.9855755\ttotal: 24m 52s\tremaining: 44.6s\n",
      "971:\tlearn: 0.9854771\ttotal: 24m 54s\tremaining: 43s\n",
      "972:\tlearn: 0.9853931\ttotal: 24m 55s\tremaining: 41.5s\n",
      "973:\tlearn: 0.9853397\ttotal: 24m 57s\tremaining: 40s\n",
      "974:\tlearn: 0.9852657\ttotal: 24m 59s\tremaining: 38.4s\n",
      "975:\tlearn: 0.9851360\ttotal: 25m\tremaining: 36.9s\n",
      "976:\tlearn: 0.9850602\ttotal: 25m 2s\tremaining: 35.4s\n",
      "977:\tlearn: 0.9849749\ttotal: 25m 3s\tremaining: 33.8s\n",
      "978:\tlearn: 0.9849302\ttotal: 25m 5s\tremaining: 32.3s\n",
      "979:\tlearn: 0.9848426\ttotal: 25m 6s\tremaining: 30.7s\n",
      "980:\tlearn: 0.9846794\ttotal: 25m 8s\tremaining: 29.2s\n",
      "981:\tlearn: 0.9846078\ttotal: 25m 9s\tremaining: 27.7s\n",
      "982:\tlearn: 0.9843516\ttotal: 25m 10s\tremaining: 26.1s\n",
      "983:\tlearn: 0.9842189\ttotal: 25m 12s\tremaining: 24.6s\n",
      "984:\tlearn: 0.9839272\ttotal: 25m 14s\tremaining: 23.1s\n",
      "985:\tlearn: 0.9838644\ttotal: 25m 15s\tremaining: 21.5s\n",
      "986:\tlearn: 0.9837564\ttotal: 25m 16s\tremaining: 20s\n",
      "987:\tlearn: 0.9835845\ttotal: 25m 18s\tremaining: 18.4s\n",
      "988:\tlearn: 0.9834267\ttotal: 25m 19s\tremaining: 16.9s\n",
      "989:\tlearn: 0.9832969\ttotal: 25m 21s\tremaining: 15.4s\n",
      "990:\tlearn: 0.9830628\ttotal: 25m 22s\tremaining: 13.8s\n",
      "991:\tlearn: 0.9829874\ttotal: 25m 24s\tremaining: 12.3s\n",
      "992:\tlearn: 0.9828969\ttotal: 25m 25s\tremaining: 10.8s\n",
      "993:\tlearn: 0.9826989\ttotal: 25m 27s\tremaining: 9.22s\n",
      "994:\tlearn: 0.9825500\ttotal: 25m 29s\tremaining: 7.68s\n",
      "995:\tlearn: 0.9823509\ttotal: 25m 30s\tremaining: 6.15s\n",
      "996:\tlearn: 0.9821305\ttotal: 25m 32s\tremaining: 4.61s\n",
      "997:\tlearn: 0.9820820\ttotal: 25m 33s\tremaining: 3.07s\n",
      "998:\tlearn: 0.9820364\ttotal: 25m 34s\tremaining: 1.54s\n",
      "999:\tlearn: 0.9819432\ttotal: 25m 36s\tremaining: 0us\n",
      "                    precision    recall  f1-score   support\n",
      "\n",
      "Extremely Negative       0.64      0.48      0.55      1753\n",
      "Extremely Positive       0.72      0.50      0.59      2190\n",
      "          Negative       0.53      0.50      0.51      3300\n",
      "           Neutral       0.57      0.78      0.66      2518\n",
      "          Positive       0.54      0.60      0.57      3821\n",
      "\n",
      "          accuracy                           0.58     13582\n",
      "         macro avg       0.60      0.57      0.58     13582\n",
      "      weighted avg       0.59      0.58      0.57     13582\n",
      "\n",
      "[[ 841   29  659  119  105]\n",
      " [  14 1092   55   81  948]\n",
      " [ 350   69 1640  635  606]\n",
      " [  25   18  212 1952  311]\n",
      " [  81  314  510  619 2297]]\n"
     ]
    }
   ],
   "source": [
    "p8 = Pipeline([('tfidf',TfidfVectorizer()), (\"cb\",CatBoostClassifier(random_state=42))])\n",
    "p8.fit(X_train,y_train)\n",
    "cb_pred = p8.predict(X_test)\n",
    "print(classification_report(y_test,cb_pred))\n",
    "print(confusion_matrix(y_test,cb_pred))"
   ]
  },
  {
   "cell_type": "markdown",
   "id": "1408a2f6-09b3-4374-a965-19299ebcad95",
   "metadata": {},
   "source": [
    "### Catboost is giving us the best accuracy... let's try it on the actual test set"
   ]
  },
  {
   "cell_type": "markdown",
   "id": "c20d3d3d-9898-4452-a6af-6c55431f51c8",
   "metadata": {},
   "source": [
    "#### Note: We won't be doing EDA on this actual test data as in practical scenario it is not possible to do any EDA on the incoming test data "
   ]
  },
  {
   "cell_type": "code",
   "execution_count": 59,
   "id": "c906e8ec-d530-4fcc-b263-1b5f4e1976d3",
   "metadata": {},
   "outputs": [],
   "source": [
    "df_test = pd.read_csv(\"Corona_NLP_test.csv\")"
   ]
  },
  {
   "cell_type": "code",
   "execution_count": 60,
   "id": "a192e856-1656-4cb4-ae59-48540ca5dd9c",
   "metadata": {},
   "outputs": [
    {
     "data": {
      "text/html": [
       "<div>\n",
       "<style scoped>\n",
       "    .dataframe tbody tr th:only-of-type {\n",
       "        vertical-align: middle;\n",
       "    }\n",
       "\n",
       "    .dataframe tbody tr th {\n",
       "        vertical-align: top;\n",
       "    }\n",
       "\n",
       "    .dataframe thead th {\n",
       "        text-align: right;\n",
       "    }\n",
       "</style>\n",
       "<table border=\"1\" class=\"dataframe\">\n",
       "  <thead>\n",
       "    <tr style=\"text-align: right;\">\n",
       "      <th></th>\n",
       "      <th>UserName</th>\n",
       "      <th>ScreenName</th>\n",
       "      <th>Location</th>\n",
       "      <th>TweetAt</th>\n",
       "      <th>OriginalTweet</th>\n",
       "      <th>Sentiment</th>\n",
       "    </tr>\n",
       "  </thead>\n",
       "  <tbody>\n",
       "    <tr>\n",
       "      <th>0</th>\n",
       "      <td>1</td>\n",
       "      <td>44953</td>\n",
       "      <td>NYC</td>\n",
       "      <td>02-03-2020</td>\n",
       "      <td>TRENDING: New Yorkers encounter empty supermar...</td>\n",
       "      <td>Extremely Negative</td>\n",
       "    </tr>\n",
       "    <tr>\n",
       "      <th>1</th>\n",
       "      <td>2</td>\n",
       "      <td>44954</td>\n",
       "      <td>Seattle, WA</td>\n",
       "      <td>02-03-2020</td>\n",
       "      <td>When I couldn't find hand sanitizer at Fred Me...</td>\n",
       "      <td>Positive</td>\n",
       "    </tr>\n",
       "    <tr>\n",
       "      <th>2</th>\n",
       "      <td>3</td>\n",
       "      <td>44955</td>\n",
       "      <td>NaN</td>\n",
       "      <td>02-03-2020</td>\n",
       "      <td>Find out how you can protect yourself and love...</td>\n",
       "      <td>Extremely Positive</td>\n",
       "    </tr>\n",
       "    <tr>\n",
       "      <th>3</th>\n",
       "      <td>4</td>\n",
       "      <td>44956</td>\n",
       "      <td>Chicagoland</td>\n",
       "      <td>02-03-2020</td>\n",
       "      <td>#Panic buying hits #NewYork City as anxious sh...</td>\n",
       "      <td>Negative</td>\n",
       "    </tr>\n",
       "    <tr>\n",
       "      <th>4</th>\n",
       "      <td>5</td>\n",
       "      <td>44957</td>\n",
       "      <td>Melbourne, Victoria</td>\n",
       "      <td>03-03-2020</td>\n",
       "      <td>#toiletpaper #dunnypaper #coronavirus #coronav...</td>\n",
       "      <td>Neutral</td>\n",
       "    </tr>\n",
       "  </tbody>\n",
       "</table>\n",
       "</div>"
      ],
      "text/plain": [
       "   UserName  ScreenName             Location     TweetAt  \\\n",
       "0         1       44953                  NYC  02-03-2020   \n",
       "1         2       44954          Seattle, WA  02-03-2020   \n",
       "2         3       44955                  NaN  02-03-2020   \n",
       "3         4       44956          Chicagoland  02-03-2020   \n",
       "4         5       44957  Melbourne, Victoria  03-03-2020   \n",
       "\n",
       "                                       OriginalTweet           Sentiment  \n",
       "0  TRENDING: New Yorkers encounter empty supermar...  Extremely Negative  \n",
       "1  When I couldn't find hand sanitizer at Fred Me...            Positive  \n",
       "2  Find out how you can protect yourself and love...  Extremely Positive  \n",
       "3  #Panic buying hits #NewYork City as anxious sh...            Negative  \n",
       "4  #toiletpaper #dunnypaper #coronavirus #coronav...             Neutral  "
      ]
     },
     "execution_count": 60,
     "metadata": {},
     "output_type": "execute_result"
    }
   ],
   "source": [
    "df_test.head()"
   ]
  },
  {
   "cell_type": "code",
   "execution_count": 66,
   "id": "a18ae170-dbf5-4642-bddc-40d3226a9fe6",
   "metadata": {},
   "outputs": [
    {
     "data": {
      "text/plain": [
       "Negative              27.409163\n",
       "Positive              24.934176\n",
       "Neutral               16.298052\n",
       "Extremely Positive    15.771459\n",
       "Extremely Negative    15.587151\n",
       "Name: Sentiment, dtype: float64"
      ]
     },
     "execution_count": 66,
     "metadata": {},
     "output_type": "execute_result"
    }
   ],
   "source": [
    "100 * df_test['Sentiment'].value_counts()/len(df_test)"
   ]
  },
  {
   "cell_type": "code",
   "execution_count": 62,
   "id": "1d30a393-9491-4baf-ac8e-1d1c2bffbd48",
   "metadata": {},
   "outputs": [],
   "source": [
    "X_final = df_test['OriginalTweet']\n",
    "y_final = df_test['Sentiment']"
   ]
  },
  {
   "cell_type": "code",
   "execution_count": 63,
   "id": "e30c1d24-5bda-42c8-8f0b-d235e063de08",
   "metadata": {},
   "outputs": [],
   "source": [
    "cb_test_pred = p8.predict(X_final)"
   ]
  },
  {
   "cell_type": "code",
   "execution_count": 64,
   "id": "d495cf89-5417-49fd-9663-e59386f25bfe",
   "metadata": {},
   "outputs": [
    {
     "name": "stdout",
     "output_type": "stream",
     "text": [
      "                    precision    recall  f1-score   support\n",
      "\n",
      "Extremely Negative       0.67      0.49      0.57       592\n",
      "Extremely Positive       0.72      0.49      0.58       599\n",
      "          Negative       0.54      0.52      0.53      1041\n",
      "           Neutral       0.57      0.75      0.65       619\n",
      "          Positive       0.50      0.60      0.55       947\n",
      "\n",
      "          accuracy                           0.57      3798\n",
      "         macro avg       0.60      0.57      0.58      3798\n",
      "      weighted avg       0.58      0.57      0.57      3798\n",
      "\n",
      "[[293   6 231  23  39]\n",
      " [ 10 292  31  24 242]\n",
      " [ 93  25 540 175 208]\n",
      " [  8   5  59 466  81]\n",
      " [ 34  80 132 129 572]]\n"
     ]
    }
   ],
   "source": [
    "print(classification_report(y_final,cb_test_pred))\n",
    "print(confusion_matrix(y_final,cb_test_pred))"
   ]
  },
  {
   "cell_type": "markdown",
   "id": "f8c49b14-3cf7-40a6-a9c0-86645f367cad",
   "metadata": {},
   "source": [
    "## Catboost gave us an accuracy of around 57% on the actual test data as well"
   ]
  },
  {
   "cell_type": "code",
   "execution_count": null,
   "id": "2ab012b5-c207-4a95-ad47-5bf92acf31cb",
   "metadata": {},
   "outputs": [],
   "source": []
  }
 ],
 "metadata": {
  "kernelspec": {
   "display_name": "Python 3",
   "language": "python",
   "name": "python3"
  },
  "language_info": {
   "codemirror_mode": {
    "name": "ipython",
    "version": 3
   },
   "file_extension": ".py",
   "mimetype": "text/x-python",
   "name": "python",
   "nbconvert_exporter": "python",
   "pygments_lexer": "ipython3",
   "version": "3.8.8"
  }
 },
 "nbformat": 4,
 "nbformat_minor": 5
}
